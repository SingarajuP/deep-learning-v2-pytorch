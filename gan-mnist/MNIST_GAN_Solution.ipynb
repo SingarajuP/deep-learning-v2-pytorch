{
  "nbformat": 4,
  "nbformat_minor": 0,
  "metadata": {
    "colab": {
      "name": "MNIST_GAN_Solution.ipynb",
      "version": "0.3.2",
      "provenance": [],
      "include_colab_link": true
    },
    "kernelspec": {
      "name": "python3",
      "display_name": "Python 3"
    },
    "accelerator": "GPU"
  },
  "cells": [
    {
      "cell_type": "markdown",
      "metadata": {
        "id": "view-in-github",
        "colab_type": "text"
      },
      "source": [
        "<a href=\"https://colab.research.google.com/github/agungsantoso/deep-learning-v2-pytorch/blob/master/gan-mnist/MNIST_GAN_Solution.ipynb\" target=\"_parent\"><img src=\"https://colab.research.google.com/assets/colab-badge.svg\" alt=\"Open In Colab\"/></a>"
      ]
    },
    {
      "metadata": {
        "id": "pl6DMJtthQvn",
        "colab_type": "text"
      },
      "cell_type": "markdown",
      "source": [
        "# Generative Adversarial Network\n",
        "\n",
        "In this notebook, we'll be building a generative adversarial network (GAN) trained on the MNIST dataset. From this, we'll be able to generate new handwritten digits!\n",
        "\n",
        "GANs were [first reported on](https://arxiv.org/abs/1406.2661) in 2014 from Ian Goodfellow and others in Yoshua Bengio's lab. Since then, GANs have exploded in popularity. Here are a few examples to check out:\n",
        "\n",
        "* [Pix2Pix](https://affinelayer.com/pixsrv/) \n",
        "* [CycleGAN & Pix2Pix in PyTorch, Jun-Yan Zhu](https://github.com/junyanz/pytorch-CycleGAN-and-pix2pix)\n",
        "* [A list of generative models](https://github.com/wiseodd/generative-models)\n",
        "\n",
        "The idea behind GANs is that you have two networks, a generator $G$ and a discriminator $D$, competing against each other. The generator makes \"fake\" data to pass to the discriminator. The discriminator also sees real training data and predicts if the data it's received is real or fake. \n",
        "> * The generator is trained to fool the discriminator, it wants to output data that looks _as close as possible_ to real, training data. \n",
        "* The discriminator is a classifier that is trained to figure out which data is real and which is fake. \n",
        "\n",
        "What ends up happening is that the generator learns to make data that is indistinguishable from real data to the discriminator.\n",
        "\n",
        "<img src='https://github.com/agungsantoso/deep-learning-v2-pytorch/blob/master/gan-mnist/assets/gan_pipeline.png?raw=1' width=70% />\n",
        "\n",
        "The general structure of a GAN is shown in the diagram above, using MNIST images as data. The latent sample is a random vector that the generator uses to construct its fake images. This is often called a **latent vector** and that vector space is called **latent space**. As the generator trains, it figures out how to map latent vectors to recognizable images that can fool the discriminator.\n",
        "\n",
        "If you're interested in generating only new images, you can throw out the discriminator after training. In this notebook, I'll show you how to define and train these adversarial networks in PyTorch and generate new images!"
      ]
    },
    {
      "metadata": {
        "id": "v-RcL6g-hQvq",
        "colab_type": "code",
        "colab": {}
      },
      "cell_type": "code",
      "source": [
        "%matplotlib inline\n",
        "\n",
        "import numpy as np\n",
        "import torch\n",
        "import matplotlib.pyplot as plt"
      ],
      "execution_count": 0,
      "outputs": []
    },
    {
      "metadata": {
        "id": "unV1CfGIhQvv",
        "colab_type": "code",
        "colab": {
          "base_uri": "https://localhost:8080/",
          "height": 283
        },
        "outputId": "5c6483d6-ee95-46c5-9dde-e746501462e4"
      },
      "cell_type": "code",
      "source": [
        "from torchvision import datasets\n",
        "import torchvision.transforms as transforms\n",
        "\n",
        "# number of subprocesses to use for data loading\n",
        "num_workers = 0\n",
        "# how many samples per batch to load\n",
        "batch_size = 64\n",
        "\n",
        "# convert data to torch.FloatTensor\n",
        "transform = transforms.ToTensor()\n",
        "\n",
        "# get the training datasets\n",
        "train_data = datasets.MNIST(root='data', train=True,\n",
        "                                   download=True, transform=transform)\n",
        "\n",
        "# prepare data loader\n",
        "train_loader = torch.utils.data.DataLoader(train_data, batch_size=batch_size,\n",
        "                                           num_workers=num_workers)"
      ],
      "execution_count": 2,
      "outputs": [
        {
          "output_type": "stream",
          "text": [
            "\r0it [00:00, ?it/s]"
          ],
          "name": "stderr"
        },
        {
          "output_type": "stream",
          "text": [
            "Downloading http://yann.lecun.com/exdb/mnist/train-images-idx3-ubyte.gz to data/MNIST/raw/train-images-idx3-ubyte.gz\n"
          ],
          "name": "stdout"
        },
        {
          "output_type": "stream",
          "text": [
            "9920512it [00:06, 1526068.05it/s]                             \n"
          ],
          "name": "stderr"
        },
        {
          "output_type": "stream",
          "text": [
            "Extracting data/MNIST/raw/train-images-idx3-ubyte.gz\n"
          ],
          "name": "stdout"
        },
        {
          "output_type": "stream",
          "text": [
            "32768it [00:00, 309055.77it/s]                           \n",
            "0it [00:00, ?it/s]"
          ],
          "name": "stderr"
        },
        {
          "output_type": "stream",
          "text": [
            "Downloading http://yann.lecun.com/exdb/mnist/train-labels-idx1-ubyte.gz to data/MNIST/raw/train-labels-idx1-ubyte.gz\n",
            "Extracting data/MNIST/raw/train-labels-idx1-ubyte.gz\n",
            "Downloading http://yann.lecun.com/exdb/mnist/t10k-images-idx3-ubyte.gz to data/MNIST/raw/t10k-images-idx3-ubyte.gz\n"
          ],
          "name": "stdout"
        },
        {
          "output_type": "stream",
          "text": [
            "1654784it [00:00, 5136878.09it/s]                           \n",
            "8192it [00:00, 120257.10it/s]\n"
          ],
          "name": "stderr"
        },
        {
          "output_type": "stream",
          "text": [
            "Extracting data/MNIST/raw/t10k-images-idx3-ubyte.gz\n",
            "Downloading http://yann.lecun.com/exdb/mnist/t10k-labels-idx1-ubyte.gz to data/MNIST/raw/t10k-labels-idx1-ubyte.gz\n",
            "Extracting data/MNIST/raw/t10k-labels-idx1-ubyte.gz\n",
            "Processing...\n",
            "Done!\n"
          ],
          "name": "stdout"
        }
      ]
    },
    {
      "metadata": {
        "id": "RQ7ZeXs2hQvy",
        "colab_type": "text"
      },
      "cell_type": "markdown",
      "source": [
        "### Visualize the data"
      ]
    },
    {
      "metadata": {
        "id": "0y5uVtj5hQvz",
        "colab_type": "code",
        "colab": {
          "base_uri": "https://localhost:8080/",
          "height": 230
        },
        "outputId": "2c037295-eabb-4b1f-9a75-77a57938a955"
      },
      "cell_type": "code",
      "source": [
        "# obtain one batch of training images\n",
        "dataiter = iter(train_loader)\n",
        "images, labels = dataiter.next()\n",
        "images = images.numpy()\n",
        "\n",
        "# get one image from the batch\n",
        "img = np.squeeze(images[0])\n",
        "\n",
        "fig = plt.figure(figsize = (3,3)) \n",
        "ax = fig.add_subplot(111)\n",
        "ax.imshow(img, cmap='gray')"
      ],
      "execution_count": 3,
      "outputs": [
        {
          "output_type": "execute_result",
          "data": {
            "text/plain": [
              "<matplotlib.image.AxesImage at 0x7f038763ccc0>"
            ]
          },
          "metadata": {
            "tags": []
          },
          "execution_count": 3
        },
        {
          "output_type": "display_data",
          "data": {
            "image/png": "[encoded data removed]",
            "text/plain": [
              "<Figure size 216x216 with 1 Axes>"
            ]
          },
          "metadata": {
            "tags": []
          }
        }
      ]
    },
    {
      "metadata": {
        "id": "WMOvEJvshQv5",
        "colab_type": "text"
      },
      "cell_type": "markdown",
      "source": [
        "---\n",
        "# Define the Model\n",
        "\n",
        "A GAN is comprised of two adversarial networks, a discriminator and a generator."
      ]
    },
    {
      "metadata": {
        "id": "PKGbL6CVhQv6",
        "colab_type": "text"
      },
      "cell_type": "markdown",
      "source": [
        "## Discriminator\n",
        "\n",
        "The discriminator network is going to be a pretty typical linear classifier. To make this network a universal function approximator, we'll need at least one hidden layer, and these hidden layers should have one key attribute:\n",
        "> All hidden layers will have a [Leaky ReLu](https://pytorch.org/docs/stable/nn.html#torch.nn.LeakyReLU) activation function applied to their outputs.\n",
        "\n",
        "<img src='https://github.com/agungsantoso/deep-learning-v2-pytorch/blob/master/gan-mnist/assets/gan_network.png?raw=1' width=70% />\n",
        "\n",
        "#### Leaky ReLu\n",
        "\n",
        "We should use a leaky ReLU to allow gradients to flow backwards through the layer unimpeded. A leaky ReLU is like a normal ReLU, except that there is a small non-zero output for negative input values.\n",
        "\n",
        "<img src='https://github.com/agungsantoso/deep-learning-v2-pytorch/blob/master/gan-mnist/assets/leaky_relu.png?raw=1' width=40% />\n",
        "\n",
        "#### Sigmoid Output\n",
        "\n",
        "We'll also take the approach of using a more numerically stable loss function on the outputs. Recall that we want the discriminator to output a value 0-1 indicating whether an image is _real or fake_. \n",
        "> We will ultimately use [BCEWithLogitsLoss](https://pytorch.org/docs/stable/nn.html#bcewithlogitsloss), which combines a `sigmoid` activation function **and** and binary cross entropy loss in one function. \n",
        "\n",
        "So, our final output layer should not have any activation function applied to it."
      ]
    },
    {
      "metadata": {
        "id": "OvYAQf9zhQv7",
        "colab_type": "code",
        "colab": {}
      },
      "cell_type": "code",
      "source": [
        "import torch.nn as nn\n",
        "import torch.nn.functional as F\n",
        "\n",
        "class Discriminator(nn.Module):\n",
        "\n",
        "    def __init__(self, input_size, hidden_dim, output_size):\n",
        "        super(Discriminator, self).__init__()\n",
        "        \n",
        "        # define hidden linear layers\n",
        "        self.fc1 = nn.Linear(input_size, hidden_dim*4)\n",
        "        self.fc2 = nn.Linear(hidden_dim*4, hidden_dim*2)\n",
        "        self.fc3 = nn.Linear(hidden_dim*2, hidden_dim)\n",
        "        \n",
        "        # final fully-connected layer\n",
        "        self.fc4 = nn.Linear(hidden_dim, output_size)\n",
        "        \n",
        "        # dropout layer \n",
        "        self.dropout = nn.Dropout(0.3)\n",
        "        \n",
        "        \n",
        "    def forward(self, x):\n",
        "        # flatten image\n",
        "        x = x.view(-1, 28*28)\n",
        "        # all hidden layers\n",
        "        x = F.leaky_relu(self.fc1(x), 0.2) # (input, negative_slope=0.2)\n",
        "        x = self.dropout(x)\n",
        "        x = F.leaky_relu(self.fc2(x), 0.2)\n",
        "        x = self.dropout(x)\n",
        "        x = F.leaky_relu(self.fc3(x), 0.2)\n",
        "        x = self.dropout(x)\n",
        "        # final layer\n",
        "        out = self.fc4(x)\n",
        "\n",
        "        return out\n"
      ],
      "execution_count": 0,
      "outputs": []
    },
    {
      "metadata": {
        "id": "EvH4HDQ2hQv-",
        "colab_type": "text"
      },
      "cell_type": "markdown",
      "source": [
        "## Generator\n",
        "\n",
        "The generator network will be almost exactly the same as the discriminator network, except that we're applying a [tanh activation function](https://pytorch.org/docs/stable/nn.html#tanh) to our output layer.\n",
        "\n",
        "#### tanh Output\n",
        "The generator has been found to perform the best with $tanh$ for the generator output, which scales the output to be between -1 and 1, instead of 0 and 1. \n",
        "\n",
        "<img src='https://github.com/agungsantoso/deep-learning-v2-pytorch/blob/master/gan-mnist/assets/tanh_fn.png?raw=1' width=40% />\n",
        "\n",
        "Recall that we also want these outputs to be comparable to the *real* input pixel values, which are read in as normalized values between 0 and 1. \n",
        "> So, we'll also have to **scale our real input images to have pixel values between -1 and 1** when we train the discriminator. \n",
        "\n",
        "I'll do this in the training loop, later on."
      ]
    },
    {
      "metadata": {
        "id": "9teTwWZghQv_",
        "colab_type": "code",
        "colab": {}
      },
      "cell_type": "code",
      "source": [
        "class Generator(nn.Module):\n",
        "\n",
        "    def __init__(self, input_size, hidden_dim, output_size):\n",
        "        super(Generator, self).__init__()\n",
        "        \n",
        "        # define hidden linear layers\n",
        "        self.fc1 = nn.Linear(input_size, hidden_dim)\n",
        "        self.fc2 = nn.Linear(hidden_dim, hidden_dim*2)\n",
        "        self.fc3 = nn.Linear(hidden_dim*2, hidden_dim*4)\n",
        "        \n",
        "        # final fully-connected layer\n",
        "        self.fc4 = nn.Linear(hidden_dim*4, output_size)\n",
        "        \n",
        "        # dropout layer \n",
        "        self.dropout = nn.Dropout(0.3)\n",
        "\n",
        "    def forward(self, x):\n",
        "        # all hidden layers\n",
        "        x = F.leaky_relu(self.fc1(x), 0.2) # (input, negative_slope=0.2)\n",
        "        x = self.dropout(x)\n",
        "        x = F.leaky_relu(self.fc2(x), 0.2)\n",
        "        x = self.dropout(x)\n",
        "        x = F.leaky_relu(self.fc3(x), 0.2)\n",
        "        x = self.dropout(x)\n",
        "        # final layer with tanh applied\n",
        "        out = F.tanh(self.fc4(x))\n",
        "\n",
        "        return out"
      ],
      "execution_count": 0,
      "outputs": []
    },
    {
      "metadata": {
        "id": "YKM7s5lxhQwD",
        "colab_type": "text"
      },
      "cell_type": "markdown",
      "source": [
        "## Model hyperparameters"
      ]
    },
    {
      "metadata": {
        "id": "oXfBhARqhQwE",
        "colab_type": "code",
        "colab": {}
      },
      "cell_type": "code",
      "source": [
        "# Discriminator hyperparams\n",
        "\n",
        "# Size of input image to discriminator (28*28)\n",
        "input_size = 784\n",
        "# Size of discriminator output (real or fake)\n",
        "d_output_size = 1\n",
        "# Size of last hidden layer in the discriminator\n",
        "d_hidden_size = 32\n",
        "\n",
        "# Generator hyperparams\n",
        "\n",
        "# Size of latent vector to give to generator\n",
        "z_size = 100\n",
        "# Size of discriminator output (generated image)\n",
        "g_output_size = 784\n",
        "# Size of first hidden layer in the generator\n",
        "g_hidden_size = 32"
      ],
      "execution_count": 0,
      "outputs": []
    },
    {
      "metadata": {
        "id": "IVtJhG6thQwH",
        "colab_type": "text"
      },
      "cell_type": "markdown",
      "source": [
        "## Build complete network\n",
        "\n",
        "Now we're instantiating the discriminator and generator from the classes defined above. Make sure you've passed in the correct input arguments."
      ]
    },
    {
      "metadata": {
        "id": "vUVg4RjOhQwJ",
        "colab_type": "code",
        "colab": {
          "base_uri": "https://localhost:8080/",
          "height": 281
        },
        "outputId": "0199a834-049e-4594-b8dd-d65d6d449fa9"
      },
      "cell_type": "code",
      "source": [
        "# instantiate discriminator and generator\n",
        "D = Discriminator(input_size, d_hidden_size, d_output_size)\n",
        "G = Generator(z_size, g_hidden_size, g_output_size)\n",
        "\n",
        "# check that they are as you expect\n",
        "print(D)\n",
        "print()\n",
        "print(G)"
      ],
      "execution_count": 7,
      "outputs": [
        {
          "output_type": "stream",
          "text": [
            "Discriminator(\n",
            "  (fc1): Linear(in_features=784, out_features=128, bias=True)\n",
            "  (fc2): Linear(in_features=128, out_features=64, bias=True)\n",
            "  (fc3): Linear(in_features=64, out_features=32, bias=True)\n",
            "  (fc4): Linear(in_features=32, out_features=1, bias=True)\n",
            "  (dropout): Dropout(p=0.3)\n",
            ")\n",
            "\n",
            "Generator(\n",
            "  (fc1): Linear(in_features=100, out_features=32, bias=True)\n",
            "  (fc2): Linear(in_features=32, out_features=64, bias=True)\n",
            "  (fc3): Linear(in_features=64, out_features=128, bias=True)\n",
            "  (fc4): Linear(in_features=128, out_features=784, bias=True)\n",
            "  (dropout): Dropout(p=0.3)\n",
            ")\n"
          ],
          "name": "stdout"
        }
      ]
    },
    {
      "metadata": {
        "id": "1ZkD2fVlhQwN",
        "colab_type": "text"
      },
      "cell_type": "markdown",
      "source": [
        "---\n",
        "## Discriminator and Generator Losses\n",
        "\n",
        "Now we need to calculate the losses. \n",
        "\n",
        "### Discriminator Losses\n",
        "\n",
        "> * For the discriminator, the total loss is the sum of the losses for real and fake images, `d_loss = d_real_loss + d_fake_loss`. \n",
        "* Remember that we want the discriminator to output 1 for real images and 0 for fake images, so we need to set up the losses to reflect that.\n",
        "\n",
        "<img src='https://github.com/agungsantoso/deep-learning-v2-pytorch/blob/master/gan-mnist/assets/gan_pipeline.png?raw=1' width=70% />\n",
        "\n",
        "The losses will by binary cross entropy loss with logits, which we can get with [BCEWithLogitsLoss](https://pytorch.org/docs/stable/nn.html#bcewithlogitsloss). This combines a `sigmoid` activation function **and** and binary cross entropy loss in one function.\n",
        "\n",
        "For the real images, we want `D(real_images) = 1`. That is, we want the discriminator to classify the the real images with a label = 1, indicating that these are real. To help the discriminator generalize better, the labels are **reduced a bit from 1.0 to 0.9**. For this, we'll use the parameter `smooth`; if True, then we should smooth our labels. In PyTorch, this looks like `labels = torch.ones(size) * 0.9`\n",
        "\n",
        "The discriminator loss for the fake data is similar. We want `D(fake_images) = 0`, where the fake images are the _generator output_, `fake_images = G(z)`. \n",
        "\n",
        "### Generator Loss\n",
        "\n",
        "The generator loss will look similar only with flipped labels. The generator's goal is to get `D(fake_images) = 1`. In this case, the labels are **flipped** to represent that the generator is trying to fool the discriminator into thinking that the images it generates (fakes) are real!"
      ]
    },
    {
      "metadata": {
        "id": "W7AFjpPZhQwO",
        "colab_type": "code",
        "colab": {}
      },
      "cell_type": "code",
      "source": [
        "# Calculate losses\n",
        "def real_loss(D_out, smooth=False):\n",
        "    batch_size = D_out.size(0)\n",
        "    # label smoothing\n",
        "    if smooth:\n",
        "        # smooth, real labels = 0.9\n",
        "        labels = torch.ones(batch_size)*0.9\n",
        "    else:\n",
        "        labels = torch.ones(batch_size) # real labels = 1\n",
        "        \n",
        "    # numerically stable loss\n",
        "    criterion = nn.BCEWithLogitsLoss()\n",
        "    # calculate loss\n",
        "    loss = criterion(D_out.squeeze(), labels)\n",
        "    return loss\n",
        "\n",
        "def fake_loss(D_out):\n",
        "    batch_size = D_out.size(0)\n",
        "    labels = torch.zeros(batch_size) # fake labels = 0\n",
        "    criterion = nn.BCEWithLogitsLoss()\n",
        "    # calculate loss\n",
        "    loss = criterion(D_out.squeeze(), labels)\n",
        "    return loss"
      ],
      "execution_count": 0,
      "outputs": []
    },
    {
      "metadata": {
        "id": "Y01exrePhQwQ",
        "colab_type": "text"
      },
      "cell_type": "markdown",
      "source": [
        "## Optimizers\n",
        "\n",
        "We want to update the generator and discriminator variables separately. So, we'll define two separate Adam optimizers."
      ]
    },
    {
      "metadata": {
        "scrolled": true,
        "id": "ZdgPxB33hQwR",
        "colab_type": "code",
        "colab": {}
      },
      "cell_type": "code",
      "source": [
        "import torch.optim as optim\n",
        "\n",
        "# Optimizers\n",
        "lr = 0.002\n",
        "\n",
        "# Create optimizers for the discriminator and generator\n",
        "d_optimizer = optim.Adam(D.parameters(), lr)\n",
        "g_optimizer = optim.Adam(G.parameters(), lr)"
      ],
      "execution_count": 0,
      "outputs": []
    },
    {
      "metadata": {
        "id": "x_oH9NjrhQwU",
        "colab_type": "text"
      },
      "cell_type": "markdown",
      "source": [
        "---\n",
        "## Training\n",
        "\n",
        "Training will involve alternating between training the discriminator and the generator. We'll use our functions `real_loss` and `fake_loss` to help us calculate the discriminator losses in all of the following cases.\n",
        "\n",
        "### Discriminator training\n",
        "1. Compute the discriminator loss on real, training images        \n",
        "2. Generate fake images\n",
        "3. Compute the discriminator loss on fake, generated images     \n",
        "4. Add up real and fake loss\n",
        "5. Perform backpropagation + an optimization step to update the discriminator's weights\n",
        "\n",
        "### Generator training\n",
        "1. Generate fake images\n",
        "2. Compute the discriminator loss on fake images, using **flipped** labels!\n",
        "3. Perform backpropagation + an optimization step to update the generator's weights\n",
        "\n",
        "#### Saving Samples\n",
        "\n",
        "As we train, we'll also print out some loss statistics and save some generated \"fake\" samples."
      ]
    },
    {
      "metadata": {
        "scrolled": true,
        "id": "JL_43dMJhQwV",
        "colab_type": "code",
        "colab": {
          "base_uri": "https://localhost:8080/",
          "height": 5352
        },
        "outputId": "1f662c0c-b494-4666-8e56-5cdd6e4b75be"
      },
      "cell_type": "code",
      "source": [
        "import pickle as pkl\n",
        "\n",
        "# training hyperparams\n",
        "num_epochs = 100\n",
        "\n",
        "# keep track of loss and generated, \"fake\" samples\n",
        "samples = []\n",
        "losses = []\n",
        "\n",
        "print_every = 400\n",
        "\n",
        "# Get some fixed data for sampling. These are images that are held\n",
        "# constant throughout training, and allow us to inspect the model's performance\n",
        "sample_size=16\n",
        "fixed_z = np.random.uniform(-1, 1, size=(sample_size, z_size))\n",
        "fixed_z = torch.from_numpy(fixed_z).float()\n",
        "\n",
        "# train the network\n",
        "D.train()\n",
        "G.train()\n",
        "for epoch in range(num_epochs):\n",
        "    \n",
        "    for batch_i, (real_images, _) in enumerate(train_loader):\n",
        "                \n",
        "        batch_size = real_images.size(0)\n",
        "        \n",
        "        ## Important rescaling step ## \n",
        "        real_images = real_images*2 - 1  # rescale input images from [0,1) to [-1, 1)\n",
        "        \n",
        "        # ============================================\n",
        "        #            TRAIN THE DISCRIMINATOR\n",
        "        # ============================================\n",
        "        \n",
        "        d_optimizer.zero_grad()\n",
        "        \n",
        "        # 1. Train with real images\n",
        "\n",
        "        # Compute the discriminator losses on real images \n",
        "        # smooth the real labels\n",
        "        D_real = D(real_images)\n",
        "        d_real_loss = real_loss(D_real, smooth=True)\n",
        "        \n",
        "        # 2. Train with fake images\n",
        "        \n",
        "        # Generate fake images\n",
        "        z = np.random.uniform(-1, 1, size=(batch_size, z_size))\n",
        "        z = torch.from_numpy(z).float()\n",
        "        fake_images = G(z)\n",
        "        \n",
        "        # Compute the discriminator losses on fake images        \n",
        "        D_fake = D(fake_images)\n",
        "        d_fake_loss = fake_loss(D_fake)\n",
        "        \n",
        "        # add up loss and perform backprop\n",
        "        d_loss = d_real_loss + d_fake_loss\n",
        "        d_loss.backward()\n",
        "        d_optimizer.step()\n",
        "        \n",
        "        \n",
        "        # =========================================\n",
        "        #            TRAIN THE GENERATOR\n",
        "        # =========================================\n",
        "        g_optimizer.zero_grad()\n",
        "        \n",
        "        # 1. Train with fake images and flipped labels\n",
        "        \n",
        "        # Generate fake images\n",
        "        z = np.random.uniform(-1, 1, size=(batch_size, z_size))\n",
        "        z = torch.from_numpy(z).float()\n",
        "        fake_images = G(z)\n",
        "        \n",
        "        # Compute the discriminator losses on fake images \n",
        "        # using flipped labels!\n",
        "        D_fake = D(fake_images)\n",
        "        g_loss = real_loss(D_fake) # use real loss to flip labels\n",
        "        \n",
        "        # perform backprop\n",
        "        g_loss.backward()\n",
        "        g_optimizer.step()\n",
        "\n",
        "        # Print some loss stats\n",
        "        if batch_i % print_every == 0:\n",
        "            # print discriminator and generator loss\n",
        "            print('Epoch [{:5d}/{:5d}] | d_loss: {:6.4f} | g_loss: {:6.4f}'.format(\n",
        "                    epoch+1, num_epochs, d_loss.item(), g_loss.item()))\n",
        "\n",
        "    \n",
        "    ## AFTER EACH EPOCH##\n",
        "    # append discriminator loss and generator loss\n",
        "    losses.append((d_loss.item(), g_loss.item()))\n",
        "    \n",
        "    # generate and save sample, fake images\n",
        "    G.eval() # eval mode for generating samples\n",
        "    samples_z = G(fixed_z)\n",
        "    samples.append(samples_z)\n",
        "    G.train() # back to train mode\n",
        "\n",
        "\n",
        "# Save training generator samples\n",
        "with open('train_samples.pkl', 'wb') as f:\n",
        "    pkl.dump(samples, f)"
      ],
      "execution_count": 10,
      "outputs": [
        {
          "output_type": "stream",
          "text": [
            "/usr/local/lib/python3.6/dist-packages/torch/nn/functional.py:1320: UserWarning: nn.functional.tanh is deprecated. Use torch.tanh instead.\n",
            "  warnings.warn(\"nn.functional.tanh is deprecated. Use torch.tanh instead.\")\n"
          ],
          "name": "stderr"
        },
        {
          "output_type": "stream",
          "text": [
            "Epoch [    1/  100] | d_loss: 1.3693 | g_loss: 0.7547\n",
            "Epoch [    1/  100] | d_loss: 1.0652 | g_loss: 2.4554\n",
            "Epoch [    1/  100] | d_loss: 1.0934 | g_loss: 1.8390\n",
            "Epoch [    2/  100] | d_loss: 1.0843 | g_loss: 1.5362\n",
            "Epoch [    2/  100] | d_loss: 1.5714 | g_loss: 0.8459\n",
            "Epoch [    2/  100] | d_loss: 1.3185 | g_loss: 1.2597\n",
            "Epoch [    3/  100] | d_loss: 1.5770 | g_loss: 0.7022\n",
            "Epoch [    3/  100] | d_loss: 1.2188 | g_loss: 0.8524\n",
            "Epoch [    3/  100] | d_loss: 1.2285 | g_loss: 0.9222\n",
            "Epoch [    4/  100] | d_loss: 1.2678 | g_loss: 1.0068\n",
            "Epoch [    4/  100] | d_loss: 1.1336 | g_loss: 1.1948\n",
            "Epoch [    4/  100] | d_loss: 1.1235 | g_loss: 1.1023\n",
            "Epoch [    5/  100] | d_loss: 1.3161 | g_loss: 1.5436\n",
            "Epoch [    5/  100] | d_loss: 1.3138 | g_loss: 0.8712\n",
            "Epoch [    5/  100] | d_loss: 1.2597 | g_loss: 0.9801\n",
            "Epoch [    6/  100] | d_loss: 1.4287 | g_loss: 0.9858\n",
            "Epoch [    6/  100] | d_loss: 1.3323 | g_loss: 1.4981\n",
            "Epoch [    6/  100] | d_loss: 0.5620 | g_loss: 25.7060\n",
            "Epoch [    7/  100] | d_loss: 0.4074 | g_loss: 24.4248\n",
            "Epoch [    7/  100] | d_loss: 0.3541 | g_loss: 28.3735\n",
            "Epoch [    7/  100] | d_loss: 0.3395 | g_loss: 26.1918\n",
            "Epoch [    8/  100] | d_loss: 0.3401 | g_loss: 34.3794\n",
            "Epoch [    8/  100] | d_loss: 0.3588 | g_loss: 29.1821\n",
            "Epoch [    8/  100] | d_loss: 0.3370 | g_loss: 30.0938\n",
            "Epoch [    9/  100] | d_loss: 0.3372 | g_loss: 31.1335\n",
            "Epoch [    9/  100] | d_loss: 0.3340 | g_loss: 43.1093\n",
            "Epoch [    9/  100] | d_loss: 0.3357 | g_loss: 37.1545\n",
            "Epoch [   10/  100] | d_loss: 0.3340 | g_loss: 33.8852\n",
            "Epoch [   10/  100] | d_loss: 0.3308 | g_loss: 32.2771\n",
            "Epoch [   10/  100] | d_loss: 0.3425 | g_loss: 29.0456\n",
            "Epoch [   11/  100] | d_loss: 0.3319 | g_loss: 20.7710\n",
            "Epoch [   11/  100] | d_loss: 0.3321 | g_loss: 23.9406\n",
            "Epoch [   11/  100] | d_loss: 0.3299 | g_loss: 25.1903\n",
            "Epoch [   12/  100] | d_loss: 0.3341 | g_loss: 34.1857\n",
            "Epoch [   12/  100] | d_loss: 0.3285 | g_loss: 23.7028\n",
            "Epoch [   12/  100] | d_loss: 0.3276 | g_loss: 23.0666\n",
            "Epoch [   13/  100] | d_loss: 0.3280 | g_loss: 20.2316\n",
            "Epoch [   13/  100] | d_loss: 0.3281 | g_loss: 33.1435\n",
            "Epoch [   13/  100] | d_loss: 0.3263 | g_loss: 29.0808\n",
            "Epoch [   14/  100] | d_loss: 0.3261 | g_loss: 21.7426\n",
            "Epoch [   14/  100] | d_loss: 0.3264 | g_loss: 18.1405\n",
            "Epoch [   14/  100] | d_loss: 0.3264 | g_loss: 17.4653\n",
            "Epoch [   15/  100] | d_loss: 0.3264 | g_loss: 20.0694\n",
            "Epoch [   15/  100] | d_loss: 0.3261 | g_loss: 11.8098\n",
            "Epoch [   15/  100] | d_loss: 0.3257 | g_loss: 20.1564\n",
            "Epoch [   16/  100] | d_loss: 0.3267 | g_loss: 18.0346\n",
            "Epoch [   16/  100] | d_loss: 0.3255 | g_loss: 16.5913\n",
            "Epoch [   16/  100] | d_loss: 0.3254 | g_loss: 18.7063\n",
            "Epoch [   17/  100] | d_loss: 0.3255 | g_loss: 22.3036\n",
            "Epoch [   17/  100] | d_loss: 0.3296 | g_loss: 25.0472\n",
            "Epoch [   17/  100] | d_loss: 0.3261 | g_loss: 18.1338\n",
            "Epoch [   18/  100] | d_loss: 0.3263 | g_loss: 18.4358\n",
            "Epoch [   18/  100] | d_loss: 0.3267 | g_loss: 20.1829\n",
            "Epoch [   18/  100] | d_loss: 0.3267 | g_loss: 21.8705\n",
            "Epoch [   19/  100] | d_loss: 0.3258 | g_loss: 15.4612\n",
            "Epoch [   19/  100] | d_loss: 0.3257 | g_loss: 14.8038\n",
            "Epoch [   19/  100] | d_loss: 0.3263 | g_loss: 14.0273\n",
            "Epoch [   20/  100] | d_loss: 0.3297 | g_loss: 12.1137\n",
            "Epoch [   20/  100] | d_loss: 0.3264 | g_loss: 17.8671\n",
            "Epoch [   20/  100] | d_loss: 0.3255 | g_loss: 21.8943\n",
            "Epoch [   21/  100] | d_loss: 0.3254 | g_loss: 22.2339\n",
            "Epoch [   21/  100] | d_loss: 0.3253 | g_loss: 27.0340\n",
            "Epoch [   21/  100] | d_loss: 0.3252 | g_loss: 20.0601\n",
            "Epoch [   22/  100] | d_loss: 0.3253 | g_loss: 20.1871\n",
            "Epoch [   22/  100] | d_loss: 0.3261 | g_loss: 19.8165\n",
            "Epoch [   22/  100] | d_loss: 0.3257 | g_loss: 18.7533\n",
            "Epoch [   23/  100] | d_loss: 0.3259 | g_loss: 22.4289\n",
            "Epoch [   23/  100] | d_loss: 0.3411 | g_loss: 11.0325\n",
            "Epoch [   23/  100] | d_loss: 0.3259 | g_loss: 23.4169\n",
            "Epoch [   24/  100] | d_loss: 0.3264 | g_loss: 12.0683\n",
            "Epoch [   24/  100] | d_loss: 0.3277 | g_loss: 13.8522\n",
            "Epoch [   24/  100] | d_loss: 0.3260 | g_loss: 20.5187\n",
            "Epoch [   25/  100] | d_loss: 0.3256 | g_loss: 19.2184\n",
            "Epoch [   25/  100] | d_loss: 0.3258 | g_loss: 20.0012\n",
            "Epoch [   25/  100] | d_loss: 0.3265 | g_loss: 26.6408\n",
            "Epoch [   26/  100] | d_loss: 0.3261 | g_loss: 14.3169\n",
            "Epoch [   26/  100] | d_loss: 0.3256 | g_loss: 18.5063\n",
            "Epoch [   26/  100] | d_loss: 0.3260 | g_loss: 18.0328\n",
            "Epoch [   27/  100] | d_loss: 0.3261 | g_loss: 20.9165\n",
            "Epoch [   27/  100] | d_loss: 0.3262 | g_loss: 23.0383\n",
            "Epoch [   27/  100] | d_loss: 0.3254 | g_loss: 17.6992\n",
            "Epoch [   28/  100] | d_loss: 0.3258 | g_loss: 13.9955\n",
            "Epoch [   28/  100] | d_loss: 0.3254 | g_loss: 17.2929\n",
            "Epoch [   28/  100] | d_loss: 0.3256 | g_loss: 19.5147\n",
            "Epoch [   29/  100] | d_loss: 0.3254 | g_loss: 19.3317\n",
            "Epoch [   29/  100] | d_loss: 0.3256 | g_loss: 38.9582\n",
            "Epoch [   29/  100] | d_loss: 0.3259 | g_loss: 18.7232\n",
            "Epoch [   30/  100] | d_loss: 0.3253 | g_loss: 19.4305\n",
            "Epoch [   30/  100] | d_loss: 0.3254 | g_loss: 19.0066\n",
            "Epoch [   30/  100] | d_loss: 0.3497 | g_loss: 27.1616\n",
            "Epoch [   31/  100] | d_loss: 0.3363 | g_loss: 18.5651\n",
            "Epoch [   31/  100] | d_loss: 0.3350 | g_loss: 10.2661\n",
            "Epoch [   31/  100] | d_loss: 0.3257 | g_loss: 17.2153\n",
            "Epoch [   32/  100] | d_loss: 0.3253 | g_loss: 19.6614\n",
            "Epoch [   32/  100] | d_loss: 0.3253 | g_loss: 20.0258\n",
            "Epoch [   32/  100] | d_loss: 0.3253 | g_loss: 19.6268\n",
            "Epoch [   33/  100] | d_loss: 0.3252 | g_loss: 18.4125\n",
            "Epoch [   33/  100] | d_loss: 0.3254 | g_loss: 20.3962\n",
            "Epoch [   33/  100] | d_loss: 0.3261 | g_loss: 17.2215\n",
            "Epoch [   34/  100] | d_loss: 0.3266 | g_loss: 18.3095\n",
            "Epoch [   34/  100] | d_loss: 0.3273 | g_loss: 24.8366\n",
            "Epoch [   34/  100] | d_loss: 0.3256 | g_loss: 24.3542\n",
            "Epoch [   35/  100] | d_loss: 0.3263 | g_loss: 19.1264\n",
            "Epoch [   35/  100] | d_loss: 0.3255 | g_loss: 19.3406\n",
            "Epoch [   35/  100] | d_loss: 0.3256 | g_loss: 24.7128\n",
            "Epoch [   36/  100] | d_loss: 0.3254 | g_loss: 19.5825\n",
            "Epoch [   36/  100] | d_loss: 0.3254 | g_loss: 22.8226\n",
            "Epoch [   36/  100] | d_loss: 0.3253 | g_loss: 25.8074\n",
            "Epoch [   37/  100] | d_loss: 0.3256 | g_loss: 20.9431\n",
            "Epoch [   37/  100] | d_loss: 0.3256 | g_loss: 27.2004\n",
            "Epoch [   37/  100] | d_loss: 0.3255 | g_loss: 15.7007\n",
            "Epoch [   38/  100] | d_loss: 0.3284 | g_loss: 16.4637\n",
            "Epoch [   38/  100] | d_loss: 0.3253 | g_loss: 15.6500\n",
            "Epoch [   38/  100] | d_loss: 0.3256 | g_loss: 17.3682\n",
            "Epoch [   39/  100] | d_loss: 0.3262 | g_loss: 24.1002\n",
            "Epoch [   39/  100] | d_loss: 0.3260 | g_loss: 16.4142\n",
            "Epoch [   39/  100] | d_loss: 0.3255 | g_loss: 19.0812\n",
            "Epoch [   40/  100] | d_loss: 0.3254 | g_loss: 20.3936\n",
            "Epoch [   40/  100] | d_loss: 0.3253 | g_loss: 20.3089\n",
            "Epoch [   40/  100] | d_loss: 0.3254 | g_loss: 16.5889\n",
            "Epoch [   41/  100] | d_loss: 0.3254 | g_loss: 22.0429\n",
            "Epoch [   41/  100] | d_loss: 0.3254 | g_loss: 16.7907\n",
            "Epoch [   41/  100] | d_loss: 0.3255 | g_loss: 20.7198\n",
            "Epoch [   42/  100] | d_loss: 0.3256 | g_loss: 21.1329\n",
            "Epoch [   42/  100] | d_loss: 0.3257 | g_loss: 15.9886\n",
            "Epoch [   42/  100] | d_loss: 0.3264 | g_loss: 19.1798\n",
            "Epoch [   43/  100] | d_loss: 0.3260 | g_loss: 20.2661\n",
            "Epoch [   43/  100] | d_loss: 0.3257 | g_loss: 19.1639\n",
            "Epoch [   43/  100] | d_loss: 0.3259 | g_loss: 16.7633\n",
            "Epoch [   44/  100] | d_loss: 0.3272 | g_loss: 21.2936\n",
            "Epoch [   44/  100] | d_loss: 0.3255 | g_loss: 20.4463\n",
            "Epoch [   44/  100] | d_loss: 0.3257 | g_loss: 19.5698\n",
            "Epoch [   45/  100] | d_loss: 0.3258 | g_loss: 23.4166\n",
            "Epoch [   45/  100] | d_loss: 0.3262 | g_loss: 20.9321\n",
            "Epoch [   45/  100] | d_loss: 0.3296 | g_loss: 15.9122\n",
            "Epoch [   46/  100] | d_loss: 0.3257 | g_loss: 21.7301\n",
            "Epoch [   46/  100] | d_loss: 0.3257 | g_loss: 19.7295\n",
            "Epoch [   46/  100] | d_loss: 0.3256 | g_loss: 18.0882\n",
            "Epoch [   47/  100] | d_loss: 0.3297 | g_loss: 14.2292\n",
            "Epoch [   47/  100] | d_loss: 0.3307 | g_loss: 13.9155\n",
            "Epoch [   47/  100] | d_loss: 0.3361 | g_loss: 17.6347\n",
            "Epoch [   48/  100] | d_loss: 0.3265 | g_loss: 21.1744\n",
            "Epoch [   48/  100] | d_loss: 0.3259 | g_loss: 16.5236\n",
            "Epoch [   48/  100] | d_loss: 0.3257 | g_loss: 15.5507\n",
            "Epoch [   49/  100] | d_loss: 0.3402 | g_loss: 18.7450\n",
            "Epoch [   49/  100] | d_loss: 0.3289 | g_loss: 10.4281\n",
            "Epoch [   49/  100] | d_loss: 0.3258 | g_loss: 17.1646\n",
            "Epoch [   50/  100] | d_loss: 0.3277 | g_loss: 18.1199\n",
            "Epoch [   50/  100] | d_loss: 0.3262 | g_loss: 19.7184\n",
            "Epoch [   50/  100] | d_loss: 0.3270 | g_loss: 24.0412\n",
            "Epoch [   51/  100] | d_loss: 0.3263 | g_loss: 21.0015\n",
            "Epoch [   51/  100] | d_loss: 0.3264 | g_loss: 9.3036\n",
            "Epoch [   51/  100] | d_loss: 0.3269 | g_loss: 22.3004\n",
            "Epoch [   52/  100] | d_loss: 0.3263 | g_loss: 19.9608\n",
            "Epoch [   52/  100] | d_loss: 0.3264 | g_loss: 18.3217\n",
            "Epoch [   52/  100] | d_loss: 0.3305 | g_loss: 14.8612\n",
            "Epoch [   53/  100] | d_loss: 0.3372 | g_loss: 29.5523\n",
            "Epoch [   53/  100] | d_loss: 0.3267 | g_loss: 22.9794\n",
            "Epoch [   53/  100] | d_loss: 0.3269 | g_loss: 16.5143\n",
            "Epoch [   54/  100] | d_loss: 0.3262 | g_loss: 24.5292\n",
            "Epoch [   54/  100] | d_loss: 0.3261 | g_loss: 15.5829\n",
            "Epoch [   54/  100] | d_loss: 0.3277 | g_loss: 16.2761\n",
            "Epoch [   55/  100] | d_loss: 0.3497 | g_loss: 12.5205\n",
            "Epoch [   55/  100] | d_loss: 0.3267 | g_loss: 19.9895\n",
            "Epoch [   55/  100] | d_loss: 0.3279 | g_loss: 21.9646\n",
            "Epoch [   56/  100] | d_loss: 0.3723 | g_loss: 22.2825\n",
            "Epoch [   56/  100] | d_loss: 0.3293 | g_loss: 20.9093\n",
            "Epoch [   56/  100] | d_loss: 0.3616 | g_loss: 20.0094\n",
            "Epoch [   57/  100] | d_loss: 0.3293 | g_loss: 18.1796\n",
            "Epoch [   57/  100] | d_loss: 0.3265 | g_loss: 17.8509\n",
            "Epoch [   57/  100] | d_loss: 0.3273 | g_loss: 19.1333\n",
            "Epoch [   58/  100] | d_loss: 0.3428 | g_loss: 22.8879\n",
            "Epoch [   58/  100] | d_loss: 0.3292 | g_loss: 16.1570\n",
            "Epoch [   58/  100] | d_loss: 0.3271 | g_loss: 24.7595\n",
            "Epoch [   59/  100] | d_loss: 0.3463 | g_loss: 19.8934\n",
            "Epoch [   59/  100] | d_loss: 0.3280 | g_loss: 17.5434\n",
            "Epoch [   59/  100] | d_loss: 0.3265 | g_loss: 19.1248\n",
            "Epoch [   60/  100] | d_loss: 0.3262 | g_loss: 23.5948\n",
            "Epoch [   60/  100] | d_loss: 0.3276 | g_loss: 19.0014\n",
            "Epoch [   60/  100] | d_loss: 0.3302 | g_loss: 18.2594\n",
            "Epoch [   61/  100] | d_loss: 0.3272 | g_loss: 20.5070\n",
            "Epoch [   61/  100] | d_loss: 0.3280 | g_loss: 19.5704\n",
            "Epoch [   61/  100] | d_loss: 0.3268 | g_loss: 23.7060\n",
            "Epoch [   62/  100] | d_loss: 0.3261 | g_loss: 21.6995\n",
            "Epoch [   62/  100] | d_loss: 0.3285 | g_loss: 19.8950\n",
            "Epoch [   62/  100] | d_loss: 0.3266 | g_loss: 22.9409\n",
            "Epoch [   63/  100] | d_loss: 0.3281 | g_loss: 19.3567\n",
            "Epoch [   63/  100] | d_loss: 0.3264 | g_loss: 21.5946\n",
            "Epoch [   63/  100] | d_loss: 0.3294 | g_loss: 18.8200\n",
            "Epoch [   64/  100] | d_loss: 0.3782 | g_loss: 28.0842\n",
            "Epoch [   64/  100] | d_loss: 0.3276 | g_loss: 22.6466\n",
            "Epoch [   64/  100] | d_loss: 0.3328 | g_loss: 25.5504\n",
            "Epoch [   65/  100] | d_loss: 0.4219 | g_loss: 11.5512\n",
            "Epoch [   65/  100] | d_loss: 0.3281 | g_loss: 21.6077\n",
            "Epoch [   65/  100] | d_loss: 0.3304 | g_loss: 20.8610\n",
            "Epoch [   66/  100] | d_loss: 0.3479 | g_loss: 23.2348\n",
            "Epoch [   66/  100] | d_loss: 0.3808 | g_loss: 17.5326\n",
            "Epoch [   66/  100] | d_loss: 0.3319 | g_loss: 21.2972\n",
            "Epoch [   67/  100] | d_loss: 0.3988 | g_loss: 18.4239\n",
            "Epoch [   67/  100] | d_loss: 0.3309 | g_loss: 18.1162\n",
            "Epoch [   67/  100] | d_loss: 0.3326 | g_loss: 24.1586\n",
            "Epoch [   68/  100] | d_loss: 0.3632 | g_loss: 20.9058\n",
            "Epoch [   68/  100] | d_loss: 0.3469 | g_loss: 19.1163\n",
            "Epoch [   68/  100] | d_loss: 0.3742 | g_loss: 23.4450\n",
            "Epoch [   69/  100] | d_loss: 0.4156 | g_loss: 18.0777\n",
            "Epoch [   69/  100] | d_loss: 0.3456 | g_loss: 16.5914\n",
            "Epoch [   69/  100] | d_loss: 0.4110 | g_loss: 20.2459\n",
            "Epoch [   70/  100] | d_loss: 0.3494 | g_loss: 11.7961\n",
            "Epoch [   70/  100] | d_loss: 0.3282 | g_loss: 17.2120\n",
            "Epoch [   70/  100] | d_loss: 0.4286 | g_loss: 14.3611\n",
            "Epoch [   71/  100] | d_loss: 0.4105 | g_loss: 20.6695\n",
            "Epoch [   71/  100] | d_loss: 0.3324 | g_loss: 15.0665\n",
            "Epoch [   71/  100] | d_loss: 0.3295 | g_loss: 17.4389\n",
            "Epoch [   72/  100] | d_loss: 0.4493 | g_loss: 18.9079\n",
            "Epoch [   72/  100] | d_loss: 0.3331 | g_loss: 15.4652\n",
            "Epoch [   72/  100] | d_loss: 0.3679 | g_loss: 22.4150\n",
            "Epoch [   73/  100] | d_loss: 0.3676 | g_loss: 14.0223\n",
            "Epoch [   73/  100] | d_loss: 0.3510 | g_loss: 21.9599\n",
            "Epoch [   73/  100] | d_loss: 0.3292 | g_loss: 22.3773\n",
            "Epoch [   74/  100] | d_loss: 0.3310 | g_loss: 16.4677\n",
            "Epoch [   74/  100] | d_loss: 0.3623 | g_loss: 14.0155\n",
            "Epoch [   74/  100] | d_loss: 0.3946 | g_loss: 24.7982\n",
            "Epoch [   75/  100] | d_loss: 0.3329 | g_loss: 24.3465\n",
            "Epoch [   75/  100] | d_loss: 0.3342 | g_loss: 21.8229\n",
            "Epoch [   75/  100] | d_loss: 0.3295 | g_loss: 16.1231\n",
            "Epoch [   76/  100] | d_loss: 0.3534 | g_loss: 17.6593\n",
            "Epoch [   76/  100] | d_loss: 0.3285 | g_loss: 13.1488\n",
            "Epoch [   76/  100] | d_loss: 0.3309 | g_loss: 15.5952\n",
            "Epoch [   77/  100] | d_loss: 0.3731 | g_loss: 24.0141\n",
            "Epoch [   77/  100] | d_loss: 0.3308 | g_loss: 16.5805\n",
            "Epoch [   77/  100] | d_loss: 0.3779 | g_loss: 17.0052\n",
            "Epoch [   78/  100] | d_loss: 0.3444 | g_loss: 23.8432\n",
            "Epoch [   78/  100] | d_loss: 0.3689 | g_loss: 11.3469\n",
            "Epoch [   78/  100] | d_loss: 0.3299 | g_loss: 21.7040\n",
            "Epoch [   79/  100] | d_loss: 0.4223 | g_loss: 20.9059\n",
            "Epoch [   79/  100] | d_loss: 0.3453 | g_loss: 14.4448\n",
            "Epoch [   79/  100] | d_loss: 0.3453 | g_loss: 18.7808\n",
            "Epoch [   80/  100] | d_loss: 0.3468 | g_loss: 18.2977\n",
            "Epoch [   80/  100] | d_loss: 0.3321 | g_loss: 19.2406\n",
            "Epoch [   80/  100] | d_loss: 0.3475 | g_loss: 19.5638\n",
            "Epoch [   81/  100] | d_loss: 0.3362 | g_loss: 23.1041\n",
            "Epoch [   81/  100] | d_loss: 0.3330 | g_loss: 12.7290\n",
            "Epoch [   81/  100] | d_loss: 0.3650 | g_loss: 15.3787\n",
            "Epoch [   82/  100] | d_loss: 0.3306 | g_loss: 18.0176\n",
            "Epoch [   82/  100] | d_loss: 0.3311 | g_loss: 13.7808\n",
            "Epoch [   82/  100] | d_loss: 0.3274 | g_loss: 17.0366\n",
            "Epoch [   83/  100] | d_loss: 0.3429 | g_loss: 25.6490\n",
            "Epoch [   83/  100] | d_loss: 0.3496 | g_loss: 15.6539\n",
            "Epoch [   83/  100] | d_loss: 0.3359 | g_loss: 23.9315\n",
            "Epoch [   84/  100] | d_loss: 0.3298 | g_loss: 16.0415\n",
            "Epoch [   84/  100] | d_loss: 0.3305 | g_loss: 14.3315\n",
            "Epoch [   84/  100] | d_loss: 0.3302 | g_loss: 14.7975\n",
            "Epoch [   85/  100] | d_loss: 0.3708 | g_loss: 20.7903\n",
            "Epoch [   85/  100] | d_loss: 0.3346 | g_loss: 13.6876\n",
            "Epoch [   85/  100] | d_loss: 0.3713 | g_loss: 13.1021\n",
            "Epoch [   86/  100] | d_loss: 0.3345 | g_loss: 20.7179\n",
            "Epoch [   86/  100] | d_loss: 0.3300 | g_loss: 14.9246\n",
            "Epoch [   86/  100] | d_loss: 0.3288 | g_loss: 20.3697\n",
            "Epoch [   87/  100] | d_loss: 0.4019 | g_loss: 23.7275\n",
            "Epoch [   87/  100] | d_loss: 0.3528 | g_loss: 15.2584\n",
            "Epoch [   87/  100] | d_loss: 0.3348 | g_loss: 15.1002\n",
            "Epoch [   88/  100] | d_loss: 0.3290 | g_loss: 15.4009\n",
            "Epoch [   88/  100] | d_loss: 0.3745 | g_loss: 13.0071\n",
            "Epoch [   88/  100] | d_loss: 0.3429 | g_loss: 15.8276\n",
            "Epoch [   89/  100] | d_loss: 0.3394 | g_loss: 17.2891\n",
            "Epoch [   89/  100] | d_loss: 0.3293 | g_loss: 14.9022\n",
            "Epoch [   89/  100] | d_loss: 0.3395 | g_loss: 18.2070\n",
            "Epoch [   90/  100] | d_loss: 0.3319 | g_loss: 16.8772\n",
            "Epoch [   90/  100] | d_loss: 0.3360 | g_loss: 14.8612\n",
            "Epoch [   90/  100] | d_loss: 0.4028 | g_loss: 11.5174\n",
            "Epoch [   91/  100] | d_loss: 0.3517 | g_loss: 19.1826\n",
            "Epoch [   91/  100] | d_loss: 0.3411 | g_loss: 16.5524\n",
            "Epoch [   91/  100] | d_loss: 0.3399 | g_loss: 22.3186\n",
            "Epoch [   92/  100] | d_loss: 0.3290 | g_loss: 22.2431\n",
            "Epoch [   92/  100] | d_loss: 0.3883 | g_loss: 13.1715\n",
            "Epoch [   92/  100] | d_loss: 0.3337 | g_loss: 17.6135\n",
            "Epoch [   93/  100] | d_loss: 0.3329 | g_loss: 22.3607\n",
            "Epoch [   93/  100] | d_loss: 0.3341 | g_loss: 15.6138\n",
            "Epoch [   93/  100] | d_loss: 0.3830 | g_loss: 16.8413\n",
            "Epoch [   94/  100] | d_loss: 0.3322 | g_loss: 19.2133\n",
            "Epoch [   94/  100] | d_loss: 0.3486 | g_loss: 13.2087\n",
            "Epoch [   94/  100] | d_loss: 0.3393 | g_loss: 11.7056\n",
            "Epoch [   95/  100] | d_loss: 0.3294 | g_loss: 20.7686\n",
            "Epoch [   95/  100] | d_loss: 0.3340 | g_loss: 11.3255\n",
            "Epoch [   95/  100] | d_loss: 0.3399 | g_loss: 16.9920\n",
            "Epoch [   96/  100] | d_loss: 0.3290 | g_loss: 16.3615\n",
            "Epoch [   96/  100] | d_loss: 0.3469 | g_loss: 15.0666\n",
            "Epoch [   96/  100] | d_loss: 0.4118 | g_loss: 21.0254\n",
            "Epoch [   97/  100] | d_loss: 0.3903 | g_loss: 23.4101\n",
            "Epoch [   97/  100] | d_loss: 0.3435 | g_loss: 15.7449\n",
            "Epoch [   97/  100] | d_loss: 0.3349 | g_loss: 18.1871\n",
            "Epoch [   98/  100] | d_loss: 0.3322 | g_loss: 15.3350\n",
            "Epoch [   98/  100] | d_loss: 0.3421 | g_loss: 12.4585\n",
            "Epoch [   98/  100] | d_loss: 0.3558 | g_loss: 13.3204\n",
            "Epoch [   99/  100] | d_loss: 0.3421 | g_loss: 31.3874\n",
            "Epoch [   99/  100] | d_loss: 0.3276 | g_loss: 17.1587\n",
            "Epoch [   99/  100] | d_loss: 0.3294 | g_loss: 18.5880\n",
            "Epoch [  100/  100] | d_loss: 0.3795 | g_loss: 21.4699\n",
            "Epoch [  100/  100] | d_loss: 0.4249 | g_loss: 12.2515\n",
            "Epoch [  100/  100] | d_loss: 0.3292 | g_loss: 16.7535\n"
          ],
          "name": "stdout"
        }
      ]
    },
    {
      "metadata": {
        "id": "G1YZRIuAhQwZ",
        "colab_type": "text"
      },
      "cell_type": "markdown",
      "source": [
        "## Training loss\n",
        "\n",
        "Here we'll plot the training losses for the generator and discriminator, recorded after each epoch."
      ]
    },
    {
      "metadata": {
        "id": "q7AITbQyhQwa",
        "colab_type": "code",
        "colab": {
          "base_uri": "https://localhost:8080/",
          "height": 298
        },
        "outputId": "030114b6-fa23-429c-f737-c129909bfdf0"
      },
      "cell_type": "code",
      "source": [
        "fig, ax = plt.subplots()\n",
        "losses = np.array(losses)\n",
        "plt.plot(losses.T[0], label='Discriminator')\n",
        "plt.plot(losses.T[1], label='Generator')\n",
        "plt.title(\"Training Losses\")\n",
        "plt.legend()"
      ],
      "execution_count": 11,
      "outputs": [
        {
          "output_type": "execute_result",
          "data": {
            "text/plain": [
              "<matplotlib.legend.Legend at 0x7f038553b198>"
            ]
          },
          "metadata": {
            "tags": []
          },
          "execution_count": 11
        },
        {
          "output_type": "display_data",
          "data": {
            "image/png": "[encoded data removed]",
            "text/plain": [
              "<Figure size 432x288 with 1 Axes>"
            ]
          },
          "metadata": {
            "tags": []
          }
        }
      ]
    },
    {
      "metadata": {
        "id": "5wPXvlCChQwd",
        "colab_type": "text"
      },
      "cell_type": "markdown",
      "source": [
        "## Generator samples from training\n",
        "\n",
        "Here we can view samples of images from the generator. First we'll look at the images we saved during training."
      ]
    },
    {
      "metadata": {
        "id": "dXW8YiGghQwe",
        "colab_type": "code",
        "colab": {}
      },
      "cell_type": "code",
      "source": [
        "# helper function for viewing a list of passed in sample images\n",
        "def view_samples(epoch, samples):\n",
        "    fig, axes = plt.subplots(figsize=(7,7), nrows=4, ncols=4, sharey=True, sharex=True)\n",
        "    for ax, img in zip(axes.flatten(), samples[epoch]):\n",
        "        img = img.detach()\n",
        "        ax.xaxis.set_visible(False)\n",
        "        ax.yaxis.set_visible(False)\n",
        "        im = ax.imshow(img.reshape((28,28)), cmap='Greys_r')"
      ],
      "execution_count": 0,
      "outputs": []
    },
    {
      "metadata": {
        "id": "eK0QtPpRhQwj",
        "colab_type": "code",
        "colab": {}
      },
      "cell_type": "code",
      "source": [
        "# Load samples from generator, taken while training\n",
        "with open('train_samples.pkl', 'rb') as f:\n",
        "    samples = pkl.load(f)"
      ],
      "execution_count": 0,
      "outputs": []
    },
    {
      "metadata": {
        "id": "usbQo9MehQwn",
        "colab_type": "text"
      },
      "cell_type": "markdown",
      "source": [
        "These are samples from the final training epoch. You can see the generator is able to reproduce numbers like 1, 7, 3, 2. Since this is just a sample, it isn't representative of the full range of images this generator can make."
      ]
    },
    {
      "metadata": {
        "id": "Fi1Q7v7whQwp",
        "colab_type": "code",
        "colab": {
          "base_uri": "https://localhost:8080/",
          "height": 411
        },
        "outputId": "8a214196-dba2-4a9f-8641-24f6ade1e34c"
      },
      "cell_type": "code",
      "source": [
        "# -1 indicates final epoch's samples (the last in the list)\n",
        "view_samples(-1, samples)"
      ],
      "execution_count": 14,
      "outputs": [
        {
          "output_type": "display_data",
          "data": {
            "image/png": "[encoded data removed]",
            "text/plain": [
              "<Figure size 504x504 with 16 Axes>"
            ]
          },
          "metadata": {
            "tags": []
          }
        }
      ]
    },
    {
      "metadata": {
        "id": "FOIUaVBkhQws",
        "colab_type": "text"
      },
      "cell_type": "markdown",
      "source": [
        "Below I'm showing the generated images as the network was training, every 10 epochs."
      ]
    },
    {
      "metadata": {
        "id": "c_IbKtMRhQwt",
        "colab_type": "code",
        "colab": {
          "base_uri": "https://localhost:8080/",
          "height": 683
        },
        "outputId": "32f3d74b-ff3c-4773-8bdf-f85b581497a2"
      },
      "cell_type": "code",
      "source": [
        "rows = 10 # split epochs into 10, so 100/10 = every 10 epochs\n",
        "cols = 6\n",
        "fig, axes = plt.subplots(figsize=(7,12), nrows=rows, ncols=cols, sharex=True, sharey=True)\n",
        "\n",
        "for sample, ax_row in zip(samples[::int(len(samples)/rows)], axes):\n",
        "    for img, ax in zip(sample[::int(len(sample)/cols)], ax_row):\n",
        "        img = img.detach()\n",
        "        ax.imshow(img.reshape((28,28)), cmap='Greys_r')\n",
        "        ax.xaxis.set_visible(False)\n",
        "        ax.yaxis.set_visible(False)"
      ],
      "execution_count": 15,
      "outputs": [
        {
          "output_type": "display_data",
          "data": {
            "image/png": "[encoded data removed]",
            "text/plain": [
              "<Figure size 504x864 with 60 Axes>"
            ]
          },
          "metadata": {
            "tags": []
          }
        }
      ]
    },
    {
      "metadata": {
        "id": "3OBcTSlYhQwy",
        "colab_type": "text"
      },
      "cell_type": "markdown",
      "source": [
        "It starts out as all noise. Then it learns to make only the center white and the rest black. You can start to see some number like structures appear out of the noise like 1s and 9s."
      ]
    },
    {
      "metadata": {
        "id": "i0Kf228ihQw0",
        "colab_type": "text"
      },
      "cell_type": "markdown",
      "source": [
        "## Sampling from the generator\n",
        "\n",
        "We can also get completely new images from the generator by using the checkpoint we saved after training. **We just need to pass in a new latent vector $z$ and we'll get new samples**!"
      ]
    },
    {
      "metadata": {
        "id": "lVm0e9AQhQw0",
        "colab_type": "code",
        "colab": {
          "base_uri": "https://localhost:8080/",
          "height": 466
        },
        "outputId": "28def534-b79a-4f9b-b36f-3e5187503012"
      },
      "cell_type": "code",
      "source": [
        "# randomly generated, new latent vectors\n",
        "sample_size=16\n",
        "rand_z = np.random.uniform(-1, 1, size=(sample_size, z_size))\n",
        "rand_z = torch.from_numpy(rand_z).float()\n",
        "\n",
        "G.eval() # eval mode\n",
        "# generated samples\n",
        "rand_images = G(rand_z)\n",
        "\n",
        "# 0 indicates the first set of samples in the passed in list\n",
        "# and we only have one batch of samples, here\n",
        "view_samples(0, [rand_images])"
      ],
      "execution_count": 16,
      "outputs": [
        {
          "output_type": "stream",
          "text": [
            "/usr/local/lib/python3.6/dist-packages/torch/nn/functional.py:1320: UserWarning: nn.functional.tanh is deprecated. Use torch.tanh instead.\n",
            "  warnings.warn(\"nn.functional.tanh is deprecated. Use torch.tanh instead.\")\n"
          ],
          "name": "stderr"
        },
        {
          "output_type": "display_data",
          "data": {
            "image/png": "[encoded data removed]",
            "text/plain": [
              "<Figure size 504x504 with 16 Axes>"
            ]
          },
          "metadata": {
            "tags": []
          }
        }
      ]
    }
  ]
}