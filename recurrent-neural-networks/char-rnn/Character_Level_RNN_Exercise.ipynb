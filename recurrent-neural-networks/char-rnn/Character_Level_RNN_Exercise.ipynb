{
  "nbformat": 4,
  "nbformat_minor": 0,
  "metadata": {
    "colab": {
      "name": "Character_Level_RNN_Exercise.ipynb",
      "version": "0.3.2",
      "provenance": [],
      "include_colab_link": true
    },
    "kernelspec": {
      "name": "python3",
      "display_name": "Python 3"
    },
    "accelerator": "GPU"
  },
  "cells": [
    {
      "cell_type": "markdown",
      "metadata": {
        "id": "view-in-github",
        "colab_type": "text"
      },
      "source": [
        "<a href=\"https://colab.research.google.com/github/agungsantoso/deep-learning-v2-pytorch/blob/master/recurrent-neural-networks/char-rnn/Character_Level_RNN_Exercise.ipynb\" target=\"_parent\"><img src=\"https://colab.research.google.com/assets/colab-badge.svg\" alt=\"Open In Colab\"/></a>"
      ]
    },
    {
      "metadata": {
        "id": "0LdZSU6XMvpi",
        "colab_type": "text"
      },
      "cell_type": "markdown",
      "source": [
        "# Character-Level LSTM in PyTorch\n",
        "\n",
        "In this notebook, I'll construct a character-level LSTM with PyTorch. The network will train character by character on some text, then generate new text character by character. As an example, I will train on Anna Karenina. **This model will be able to generate new text based on the text from the book!**\n",
        "\n",
        "This network is based off of Andrej Karpathy's [post on RNNs](http://karpathy.github.io/2015/05/21/rnn-effectiveness/) and [implementation in Torch](https://github.com/karpathy/char-rnn). Below is the general architecture of the character-wise RNN.\n",
        "\n",
        "<img src=\"https://github.com/agungsantoso/deep-learning-v2-pytorch/blob/master/recurrent-neural-networks/char-rnn/assets/charseq.jpeg?raw=1\" width=\"500\">"
      ]
    },
    {
      "metadata": {
        "id": "NgQMwPoAYNR1",
        "colab_type": "code",
        "colab": {
          "base_uri": "https://localhost:8080/",
          "height": 54
        },
        "outputId": "25726fd5-83fc-4226-fa01-23ed4713d389"
      },
      "cell_type": "code",
      "source": [
        "# http://pytorch.org/\n",
        "from os.path import exists\n",
        "from wheel.pep425tags import get_abbr_impl, get_impl_ver, get_abi_tag\n",
        "platform = '{}{}-{}'.format(get_abbr_impl(), get_impl_ver(), get_abi_tag())\n",
        "cuda_output = !ldconfig -p|grep cudart.so|sed -e 's/.*\\.\\([0-9]*\\)\\.\\([0-9]*\\)$/cu\\1\\2/'\n",
        "accelerator = cuda_output[0] if exists('/dev/nvidia0') else 'cpu'\n",
        "\n",
        "!pip install -q http://download.pytorch.org/whl/{accelerator}/torch-0.4.1-{platform}-linux_x86_64.whl torchvision\n",
        "import torch"
      ],
      "execution_count": 1,
      "outputs": [
        {
          "output_type": "stream",
          "text": [
            "tcmalloc: large alloc 1073750016 bytes == 0x58472000 @  0x7f86683ee2a4 0x591a07 0x5b5d56 0x502e9a 0x506859 0x502209 0x502f3d 0x506859 0x504c28 0x502540 0x502f3d 0x506859 0x504c28 0x502540 0x502f3d 0x506859 0x504c28 0x502540 0x502f3d 0x507641 0x502209 0x502f3d 0x506859 0x504c28 0x502540 0x502f3d 0x507641 0x504c28 0x502540 0x502f3d 0x507641\n"
          ],
          "name": "stdout"
        }
      ]
    },
    {
      "metadata": {
        "id": "KwT1G5MJMvpj",
        "colab_type": "text"
      },
      "cell_type": "markdown",
      "source": [
        "First let's load in our required resources for data loading and model creation."
      ]
    },
    {
      "metadata": {
        "id": "BUX5DK2aMvpk",
        "colab_type": "code",
        "colab": {}
      },
      "cell_type": "code",
      "source": [
        "import numpy as np\n",
        "import torch\n",
        "from torch import nn\n",
        "import torch.nn.functional as F"
      ],
      "execution_count": 0,
      "outputs": []
    },
    {
      "metadata": {
        "id": "1f6XRCHxMvpo",
        "colab_type": "text"
      },
      "cell_type": "markdown",
      "source": [
        "## Load in Data\n",
        "\n",
        "Then, we'll load the Anna Karenina text file and convert it into integers for our network to use. "
      ]
    },
    {
      "metadata": {
        "id": "qLb1XjD6YioE",
        "colab_type": "code",
        "colab": {
          "base_uri": "https://localhost:8080/",
          "height": 248
        },
        "outputId": "6a164ef4-e769-4607-d5b7-0ae87aef3377"
      },
      "cell_type": "code",
      "source": [
        "!wget -c https://github.com/agungsantoso/deep-learning-v2-pytorch/raw/master/recurrent-neural-networks/char-rnn/data/anna.txt\n",
        "!mkdir data\n",
        "!mv anna.txt data/anna.txt"
      ],
      "execution_count": 5,
      "outputs": [
        {
          "output_type": "stream",
          "text": [
            "--2018-12-17 04:18:44--  https://github.com/agungsantoso/deep-learning-v2-pytorch/raw/master/recurrent-neural-networks/char-rnn/data/anna.txt\n",
            "Resolving github.com (github.com)... 192.30.253.113, 192.30.253.112\n",
            "Connecting to github.com (github.com)|192.30.253.113|:443... connected.\n",
            "HTTP request sent, awaiting response... 302 Found\n",
            "Location: https://raw.githubusercontent.com/agungsantoso/deep-learning-v2-pytorch/master/recurrent-neural-networks/char-rnn/data/anna.txt [following]\n",
            "--2018-12-17 04:18:44--  https://raw.githubusercontent.com/agungsantoso/deep-learning-v2-pytorch/master/recurrent-neural-networks/char-rnn/data/anna.txt\n",
            "Resolving raw.githubusercontent.com (raw.githubusercontent.com)... 151.101.0.133, 151.101.64.133, 151.101.128.133, ...\n",
            "Connecting to raw.githubusercontent.com (raw.githubusercontent.com)|151.101.0.133|:443... connected.\n",
            "HTTP request sent, awaiting response... 416 Range Not Satisfiable\n",
            "\n",
            "    The file is already fully retrieved; nothing to do.\n",
            "\n"
          ],
          "name": "stdout"
        }
      ]
    },
    {
      "metadata": {
        "id": "yhZXqsvxMvpp",
        "colab_type": "code",
        "colab": {}
      },
      "cell_type": "code",
      "source": [
        "# open text file and read in data as `text`\n",
        "with open('data/anna.txt', 'r') as f:\n",
        "    text = f.read()"
      ],
      "execution_count": 0,
      "outputs": []
    },
    {
      "metadata": {
        "id": "W0YQBJa6Mvps",
        "colab_type": "text"
      },
      "cell_type": "markdown",
      "source": [
        "Let's check out the first 100 characters, make sure everything is peachy. According to the [American Book Review](http://americanbookreview.org/100bestlines.asp), this is the 6th best first line of a book ever."
      ]
    },
    {
      "metadata": {
        "id": "ph3M0MTtMvpt",
        "colab_type": "code",
        "colab": {
          "base_uri": "https://localhost:8080/",
          "height": 34
        },
        "outputId": "4b731365-ac8a-4846-d3db-5de8240f5a9c"
      },
      "cell_type": "code",
      "source": [
        "text[:100]"
      ],
      "execution_count": 7,
      "outputs": [
        {
          "output_type": "execute_result",
          "data": {
            "text/plain": [
              "'Chapter 1\\n\\n\\nHappy families are all alike; every unhappy family is unhappy in its own\\nway.\\n\\nEverythin'"
            ]
          },
          "metadata": {
            "tags": []
          },
          "execution_count": 7
        }
      ]
    },
    {
      "metadata": {
        "id": "LAU2NjBiMvpx",
        "colab_type": "text"
      },
      "cell_type": "markdown",
      "source": [
        "### Tokenization\n",
        "\n",
        "In the cells, below, I'm creating a couple **dictionaries** to convert the characters to and from integers. Encoding the characters as integers makes it easier to use as input in the network."
      ]
    },
    {
      "metadata": {
        "id": "A8bO5NjhMvpx",
        "colab_type": "code",
        "colab": {}
      },
      "cell_type": "code",
      "source": [
        "# encode the text and map each character to an integer and vice versa\n",
        "\n",
        "# we create two dictionaries:\n",
        "# 1. int2char, which maps integers to characters\n",
        "# 2. char2int, which maps characters to unique integers\n",
        "chars = tuple(set(text))\n",
        "int2char = dict(enumerate(chars))\n",
        "char2int = {ch: ii for ii, ch in int2char.items()}\n",
        "\n",
        "# encode the text\n",
        "encoded = np.array([char2int[ch] for ch in text])"
      ],
      "execution_count": 0,
      "outputs": []
    },
    {
      "metadata": {
        "id": "pgUzRcvcMvp2",
        "colab_type": "text"
      },
      "cell_type": "markdown",
      "source": [
        "And we can see those same characters from above, encoded as integers."
      ]
    },
    {
      "metadata": {
        "id": "--lVnVtfMvp3",
        "colab_type": "code",
        "colab": {
          "base_uri": "https://localhost:8080/",
          "height": 122
        },
        "outputId": "cf303331-e74a-48e9-b475-74107643a5c4"
      },
      "cell_type": "code",
      "source": [
        "encoded[:100]"
      ],
      "execution_count": 9,
      "outputs": [
        {
          "output_type": "execute_result",
          "data": {
            "text/plain": [
              "array([78, 45, 11,  1, 47, 31, 53, 71, 34, 56, 56, 56, 25, 11,  1,  1, 73,\n",
              "       71, 19, 11, 70,  5, 50,  5, 31, 75, 71, 11, 53, 31, 71, 11, 50, 50,\n",
              "       71, 11, 50,  5, 15, 31, 17, 71, 31, 40, 31, 53, 73, 71, 55, 43, 45,\n",
              "       11,  1,  1, 73, 71, 19, 11, 70,  5, 50, 73, 71,  5, 75, 71, 55, 43,\n",
              "       45, 11,  1,  1, 73, 71,  5, 43, 71,  5, 47, 75, 71, 29, 69, 43, 56,\n",
              "       69, 11, 73, 41, 56, 56, 51, 40, 31, 53, 73, 47, 45,  5, 43])"
            ]
          },
          "metadata": {
            "tags": []
          },
          "execution_count": 9
        }
      ]
    },
    {
      "metadata": {
        "id": "f-eStQCaMvp8",
        "colab_type": "text"
      },
      "cell_type": "markdown",
      "source": [
        "## Pre-processing the data\n",
        "\n",
        "As you can see in our char-RNN image above, our LSTM expects an input that is **one-hot encoded** meaning that each character is converted into an integer (via our created dictionary) and *then* converted into a column vector where only it's corresponding integer index will have the value of 1 and the rest of the vector will be filled with 0's. Since we're one-hot encoding the data, let's make a function to do that!\n"
      ]
    },
    {
      "metadata": {
        "id": "rQZ0K0jMMvp9",
        "colab_type": "code",
        "colab": {}
      },
      "cell_type": "code",
      "source": [
        "def one_hot_encode(arr, n_labels):\n",
        "    \n",
        "    # Initialize the the encoded array\n",
        "    one_hot = np.zeros((np.multiply(*arr.shape), n_labels), dtype=np.float32)\n",
        "    \n",
        "    # Fill the appropriate elements with ones\n",
        "    one_hot[np.arange(one_hot.shape[0]), arr.flatten()] = 1.\n",
        "    \n",
        "    # Finally reshape it to get back to the original array\n",
        "    one_hot = one_hot.reshape((*arr.shape, n_labels))\n",
        "    \n",
        "    return one_hot"
      ],
      "execution_count": 0,
      "outputs": []
    },
    {
      "metadata": {
        "id": "8EfE1uHBMvqC",
        "colab_type": "code",
        "colab": {
          "base_uri": "https://localhost:8080/",
          "height": 70
        },
        "outputId": "a5607e4d-f960-4bee-df01-514e8916c06e"
      },
      "cell_type": "code",
      "source": [
        "# check that the function works as expected\n",
        "test_seq = np.array([[3, 5, 1]])\n",
        "one_hot = one_hot_encode(test_seq, 8)\n",
        "\n",
        "print(one_hot)"
      ],
      "execution_count": 11,
      "outputs": [
        {
          "output_type": "stream",
          "text": [
            "[[[0. 0. 0. 1. 0. 0. 0. 0.]\n",
            "  [0. 0. 0. 0. 0. 1. 0. 0.]\n",
            "  [0. 1. 0. 0. 0. 0. 0. 0.]]]\n"
          ],
          "name": "stdout"
        }
      ]
    },
    {
      "metadata": {
        "id": "r-OtrPA8MvqG",
        "colab_type": "text"
      },
      "cell_type": "markdown",
      "source": [
        "## Making training mini-batches\n",
        "\n",
        "\n",
        "To train on this data, we also want to create mini-batches for training. Remember that we want our batches to be multiple sequences of some desired number of sequence steps. Considering a simple example, our batches would look like this:\n",
        "\n",
        "<img src=\"https://github.com/agungsantoso/deep-learning-v2-pytorch/blob/master/recurrent-neural-networks/char-rnn/assets/sequence_batching@1x.png?raw=1\" width=500px>\n",
        "\n",
        "\n",
        "<br>\n",
        "\n",
        "In this example, we'll take the encoded characters (passed in as the `arr` parameter) and split them into multiple sequences, given by `batch_size`. Each of our sequences will be `seq_length` long.\n",
        "\n",
        "### Creating Batches\n",
        "\n",
        "**1. The first thing we need to do is discard some of the text so we only have completely full mini-batches. **\n",
        "\n",
        "Each batch contains $N \\times M$ characters, where $N$ is the batch size (the number of sequences in a batch) and $M$ is the seq_length or number of time steps in a sequence. Then, to get the total number of batches, $K$, that we can make from the array `arr`, you divide the length of `arr` by the number of characters per batch. Once you know the number of batches, you can get the total number of characters to keep from `arr`, $N * M * K$.\n",
        "\n",
        "**2. After that, we need to split `arr` into $N$ batches. ** \n",
        "\n",
        "You can do this using `arr.reshape(size)` where `size` is a tuple containing the dimensions sizes of the reshaped array. We know we want $N$ sequences in a batch, so let's make that the size of the first dimension. For the second dimension, you can use `-1` as a placeholder in the size, it'll fill up the array with the appropriate data for you. After this, you should have an array that is $N \\times (M * K)$.\n",
        "\n",
        "**3. Now that we have this array, we can iterate through it to get our mini-batches. **\n",
        "\n",
        "The idea is each batch is a $N \\times M$ window on the $N \\times (M * K)$ array. For each subsequent batch, the window moves over by `seq_length`. We also want to create both the input and target arrays. Remember that the targets are just the inputs shifted over by one character. The way I like to do this window is use `range` to take steps of size `n_steps` from $0$ to `arr.shape[1]`, the total number of tokens in each sequence. That way, the integers you get from `range` always point to the start of a batch, and each window is `seq_length` wide.\n",
        "\n",
        "> **TODO:** Write the code for creating batches in the function below. The exercises in this notebook _will not be easy_. I've provided a notebook with solutions alongside this notebook. If you get stuck, checkout the solutions. The most important thing is that you don't copy and paste the code into here, **type out the solution code yourself.**"
      ]
    },
    {
      "metadata": {
        "id": "EmcBCg89MvqH",
        "colab_type": "code",
        "colab": {}
      },
      "cell_type": "code",
      "source": [
        "def get_batches(arr, batch_size, seq_length):\n",
        "    '''Create a generator that returns batches of size\n",
        "       batch_size x seq_length from arr.\n",
        "       \n",
        "       Arguments\n",
        "       ---------\n",
        "       arr: Array you want to make batches from\n",
        "       batch_size: Batch size, the number of sequences per batch\n",
        "       seq_length: Number of encoded chars in a sequence\n",
        "    '''\n",
        "    \n",
        "    batch_size_total = batch_size * seq_length\n",
        "    ## TODO: Get the number of batches we can make\n",
        "    n_batches = len(arr)//batch_size_total\n",
        "    \n",
        "    ## TODO: Keep only enough characters to make full batches\n",
        "    arr = arr[:n_batches * batch_size_total]\n",
        "    \n",
        "    ## TODO: Reshape into batch_size rows\n",
        "    arr = arr.reshape((batch_size, -1))\n",
        "    \n",
        "    ## TODO: Iterate over the batches using a window of size seq_length\n",
        "    for n in range(0, arr.shape[1], seq_length):\n",
        "        # The features\n",
        "        x = arr[:, n:n+seq_length]\n",
        "        # The targets, shifted by one\n",
        "        y = np.zeros_like(x)\n",
        "        try:\n",
        "          y[:, :-1], y[:, -1] = x[:, 1:], arr[:, n+seq_length]\n",
        "        except IndexError:\n",
        "          y[:, :-1], y[:, -1] = x[:, 1:], arr[:, 0]\n",
        "        yield x, y"
      ],
      "execution_count": 0,
      "outputs": []
    },
    {
      "metadata": {
        "id": "4SdUls7pMvqJ",
        "colab_type": "text"
      },
      "cell_type": "markdown",
      "source": [
        "### Test Your Implementation\n",
        "\n",
        "Now I'll make some data sets and we can check out what's going on as we batch data. Here, as an example, I'm going to use a batch size of 8 and 50 sequence steps."
      ]
    },
    {
      "metadata": {
        "id": "ZGLROV7DMvqL",
        "colab_type": "code",
        "colab": {}
      },
      "cell_type": "code",
      "source": [
        "batches = get_batches(encoded, 8, 50)\n",
        "x, y = next(batches)"
      ],
      "execution_count": 0,
      "outputs": []
    },
    {
      "metadata": {
        "id": "PqSeBU8jMvqN",
        "colab_type": "code",
        "colab": {
          "base_uri": "https://localhost:8080/",
          "height": 351
        },
        "outputId": "78924b9b-1144-459d-a8c4-5a914d7119a0"
      },
      "cell_type": "code",
      "source": [
        "# printing out the first 10 items in a sequence\n",
        "print('x\\n', x[:10, :10])\n",
        "print('\\ny\\n', y[:10, :10])"
      ],
      "execution_count": 16,
      "outputs": [
        {
          "output_type": "stream",
          "text": [
            "x\n",
            " [[78 45 11  1 47 31 53 71 34 56]\n",
            " [75 29 43 71 47 45 11 47 71 11]\n",
            " [31 43 82 71 29 53 71 11 71 19]\n",
            " [75 71 47 45 31 71 60 45  5 31]\n",
            " [71 75 11 69 71 45 31 53 71 47]\n",
            " [60 55 75 75  5 29 43 71 11 43]\n",
            " [71 54 43 43 11 71 45 11 82 71]\n",
            " [48 28 50 29 43 75 15 73 41 71]]\n",
            "\n",
            "y\n",
            " [[45 11  1 47 31 53 71 34 56 56]\n",
            " [29 43 71 47 45 11 47 71 11 47]\n",
            " [43 82 71 29 53 71 11 71 19 29]\n",
            " [71 47 45 31 71 60 45  5 31 19]\n",
            " [75 11 69 71 45 31 53 71 47 31]\n",
            " [55 75 75  5 29 43 71 11 43 82]\n",
            " [54 43 43 11 71 45 11 82 71 75]\n",
            " [28 50 29 43 75 15 73 41 71  9]]\n"
          ],
          "name": "stdout"
        }
      ]
    },
    {
      "metadata": {
        "id": "E3fHV3N0MvqR",
        "colab_type": "text"
      },
      "cell_type": "markdown",
      "source": [
        "If you implemented `get_batches` correctly, the above output should look something like \n",
        "```\n",
        "x\n",
        " [[25  8 60 11 45 27 28 73  1  2]\n",
        " [17  7 20 73 45  8 60 45 73 60]\n",
        " [27 20 80 73  7 28 73 60 73 65]\n",
        " [17 73 45  8 27 73 66  8 46 27]\n",
        " [73 17 60 12 73  8 27 28 73 45]\n",
        " [66 64 17 17 46  7 20 73 60 20]\n",
        " [73 76 20 20 60 73  8 60 80 73]\n",
        " [47 35 43  7 20 17 24 50 37 73]]\n",
        "\n",
        "y\n",
        " [[ 8 60 11 45 27 28 73  1  2  2]\n",
        " [ 7 20 73 45  8 60 45 73 60 45]\n",
        " [20 80 73  7 28 73 60 73 65  7]\n",
        " [73 45  8 27 73 66  8 46 27 65]\n",
        " [17 60 12 73  8 27 28 73 45 27]\n",
        " [64 17 17 46  7 20 73 60 20 80]\n",
        " [76 20 20 60 73  8 60 80 73 17]\n",
        " [35 43  7 20 17 24 50 37 73 36]]\n",
        " ```\n",
        " although the exact numbers may be different. Check to make sure the data is shifted over one step for `y`."
      ]
    },
    {
      "metadata": {
        "id": "wqimCHQSMvqR",
        "colab_type": "text"
      },
      "cell_type": "markdown",
      "source": [
        "---\n",
        "## Defining the network with PyTorch\n",
        "\n",
        "Below is where you'll define the network.\n",
        "\n",
        "<img src=\"https://github.com/agungsantoso/deep-learning-v2-pytorch/blob/master/recurrent-neural-networks/char-rnn/assets/charRNN.png?raw=1\" width=500px>\n",
        "\n",
        "Next, you'll use PyTorch to define the architecture of the network. We start by defining the layers and operations we want. Then, define a method for the forward pass. You've also been given a method for predicting characters."
      ]
    },
    {
      "metadata": {
        "id": "xUqVcyHHMvqT",
        "colab_type": "text"
      },
      "cell_type": "markdown",
      "source": [
        "### Model Structure\n",
        "\n",
        "In `__init__` the suggested structure is as follows:\n",
        "* Create and store the necessary dictionaries (this has been done for you)\n",
        "* Define an LSTM layer that takes as params: an input size (the number of characters), a hidden layer size `n_hidden`, a number of layers `n_layers`, a dropout probability `drop_prob`, and a batch_first boolean (True, since we are batching)\n",
        "* Define a dropout layer with `dropout_prob`\n",
        "* Define a fully-connected layer with params: input size `n_hidden` and output size (the number of characters)\n",
        "* Finally, initialize the weights (again, this has been given)\n",
        "\n",
        "Note that some parameters have been named and given in the `__init__` function, and we use them and store them by doing something like `self.drop_prob = drop_prob`."
      ]
    },
    {
      "metadata": {
        "id": "VFtBLZPEMvqU",
        "colab_type": "text"
      },
      "cell_type": "markdown",
      "source": [
        "---\n",
        "### LSTM Inputs/Outputs\n",
        "\n",
        "You can create a basic [LSTM layer](https://pytorch.org/docs/stable/nn.html#lstm) as follows\n",
        "\n",
        "```python\n",
        "self.lstm = nn.LSTM(input_size, n_hidden, n_layers, \n",
        "                            dropout=drop_prob, batch_first=True)\n",
        "```\n",
        "\n",
        "where `input_size` is the number of characters this cell expects to see as sequential input, and `n_hidden` is the number of units in the hidden layers in the cell. And we can add dropout by adding a dropout parameter with a specified probability; this will automatically add dropout to the inputs or outputs. Finally, in the `forward` function, we can stack up the LSTM cells into layers using `.view`. With this, you pass in a list of cells and it will send the output of one cell into the next cell.\n",
        "\n",
        "We also need to create an initial hidden state of all zeros. This is done like so\n",
        "\n",
        "```python\n",
        "self.init_hidden()\n",
        "```"
      ]
    },
    {
      "metadata": {
        "id": "npB1yCHDMvqX",
        "colab_type": "code",
        "colab": {
          "base_uri": "https://localhost:8080/",
          "height": 34
        },
        "outputId": "6068dd36-c7bd-43ac-ab82-0ead7278c35d"
      },
      "cell_type": "code",
      "source": [
        "# check if GPU is available\n",
        "train_on_gpu = torch.cuda.is_available()\n",
        "if(train_on_gpu):\n",
        "    print('Training on GPU!')\n",
        "else: \n",
        "    print('No GPU available, training on CPU; consider making n_epochs very small.')"
      ],
      "execution_count": 17,
      "outputs": [
        {
          "output_type": "stream",
          "text": [
            "Training on GPU!\n"
          ],
          "name": "stdout"
        }
      ]
    },
    {
      "metadata": {
        "id": "YjAF19dcMvqZ",
        "colab_type": "code",
        "colab": {}
      },
      "cell_type": "code",
      "source": [
        "class CharRNN(nn.Module):\n",
        "    \n",
        "    def __init__(self, tokens, n_hidden=256, n_layers=2,\n",
        "                               drop_prob=0.5, lr=0.001):\n",
        "        super().__init__()\n",
        "        self.drop_prob = drop_prob\n",
        "        self.n_layers = n_layers\n",
        "        self.n_hidden = n_hidden\n",
        "        self.lr = lr\n",
        "        \n",
        "        # creating character dictionaries\n",
        "        self.chars = tokens\n",
        "        self.int2char = dict(enumerate(self.chars))\n",
        "        self.char2int = {ch: ii for ii, ch in self.int2char.items()}\n",
        "        \n",
        "        ## define the LSTM\n",
        "        self.lstm = nn.LSTM(len(self.chars), self.n_hidden, self.n_layers, dropout=drop_prob, batch_first=True)\n",
        "        \n",
        "        ## define a dropout layer\n",
        "        self.dropout = nn.Dropout(drop_prob)\n",
        "        \n",
        "        ## define the final, fully-connected output layer\n",
        "        self.fc = nn.Linear(n_hidden, len(self.chars))\n",
        "      \n",
        "    def forward(self, x, hidden):\n",
        "        ''' Forward pass through the network. \n",
        "            These inputs are x, and the hidden/cell state `hidden`. '''\n",
        "                \n",
        "        ## TODO: Get the outputs and the new hidden state from the lstm\n",
        "        r_output, hidden = self.lstm(x, hidden)\n",
        "        \n",
        "        ## pass through a dropout layer\n",
        "        out = self.dropout(r_output)\n",
        "        \n",
        "        ## stack up LSTM view using view\n",
        "        ## use contiguous to reshape the output\n",
        "        out = out.contiguous().view(-1, self.n_hidden)\n",
        "        \n",
        "        ## put x through the fully connected layer\n",
        "        out = self.fc(out)\n",
        "        \n",
        "        # return the final output and the hidden state\n",
        "        return out, hidden\n",
        "    \n",
        "    \n",
        "    def init_hidden(self, batch_size):\n",
        "        ''' Initializes hidden state '''\n",
        "        # Create two new tensors with sizes n_layers x batch_size x n_hidden,\n",
        "        # initialized to zero, for hidden state and cell state of LSTM\n",
        "        weight = next(self.parameters()).data\n",
        "        \n",
        "        if (train_on_gpu):\n",
        "            hidden = (weight.new(self.n_layers, batch_size, self.n_hidden).zero_().cuda(),\n",
        "                  weight.new(self.n_layers, batch_size, self.n_hidden).zero_().cuda())\n",
        "        else:\n",
        "            hidden = (weight.new(self.n_layers, batch_size, self.n_hidden).zero_(),\n",
        "                      weight.new(self.n_layers, batch_size, self.n_hidden).zero_())\n",
        "        \n",
        "        return hidden\n",
        "        "
      ],
      "execution_count": 0,
      "outputs": []
    },
    {
      "metadata": {
        "id": "PW8xGUBJMvqd",
        "colab_type": "text"
      },
      "cell_type": "markdown",
      "source": [
        "## Time to train\n",
        "\n",
        "The train function gives us the ability to set the number of epochs, the learning rate, and other parameters.\n",
        "\n",
        "Below we're using an Adam optimizer and cross entropy loss since we are looking at character class scores as output. We calculate the loss and perform backpropagation, as usual!\n",
        "\n",
        "A couple of details about training: \n",
        ">* Within the batch loop, we detach the hidden state from its history; this time setting it equal to a new *tuple* variable because an LSTM has a hidden state that is a tuple of the hidden and cell states.\n",
        "* We use [`clip_grad_norm_`](https://pytorch.org/docs/stable/_modules/torch/nn/utils/clip_grad.html) to help prevent exploding gradients."
      ]
    },
    {
      "metadata": {
        "id": "KeH_ky8SMvqe",
        "colab_type": "code",
        "colab": {}
      },
      "cell_type": "code",
      "source": [
        "def train(net, data, epochs=10, batch_size=10, seq_length=50, lr=0.001, clip=5, val_frac=0.1, print_every=10):\n",
        "    ''' Training a network \n",
        "    \n",
        "        Arguments\n",
        "        ---------\n",
        "        \n",
        "        net: CharRNN network\n",
        "        data: text data to train the network\n",
        "        epochs: Number of epochs to train\n",
        "        batch_size: Number of mini-sequences per mini-batch, aka batch size\n",
        "        seq_length: Number of character steps per mini-batch\n",
        "        lr: learning rate\n",
        "        clip: gradient clipping\n",
        "        val_frac: Fraction of data to hold out for validation\n",
        "        print_every: Number of steps for printing training and validation loss\n",
        "    \n",
        "    '''\n",
        "    net.train()\n",
        "    \n",
        "    opt = torch.optim.Adam(net.parameters(), lr=lr)\n",
        "    criterion = nn.CrossEntropyLoss()\n",
        "    \n",
        "    # create training and validation data\n",
        "    val_idx = int(len(data)*(1-val_frac))\n",
        "    data, val_data = data[:val_idx], data[val_idx:]\n",
        "    \n",
        "    if(train_on_gpu):\n",
        "        net.cuda()\n",
        "    \n",
        "    counter = 0\n",
        "    n_chars = len(net.chars)\n",
        "    for e in range(epochs):\n",
        "        # initialize hidden state\n",
        "        h = net.init_hidden(batch_size)\n",
        "        \n",
        "        for x, y in get_batches(data, batch_size, seq_length):\n",
        "            counter += 1\n",
        "            \n",
        "            # One-hot encode our data and make them Torch tensors\n",
        "            x = one_hot_encode(x, n_chars)\n",
        "            inputs, targets = torch.from_numpy(x), torch.from_numpy(y)\n",
        "            \n",
        "            if(train_on_gpu):\n",
        "                inputs, targets = inputs.cuda(), targets.cuda()\n",
        "\n",
        "            # Creating new variables for the hidden state, otherwise\n",
        "            # we'd backprop through the entire training history\n",
        "            h = tuple([each.data for each in h])\n",
        "\n",
        "            # zero accumulated gradients\n",
        "            net.zero_grad()\n",
        "            \n",
        "            # get the output from the model\n",
        "            output, h = net(inputs, h)\n",
        "            \n",
        "            # calculate the loss and perform backprop\n",
        "            loss = criterion(output, targets.view(batch_size*seq_length))\n",
        "            loss.backward()\n",
        "            # `clip_grad_norm` helps prevent the exploding gradient problem in RNNs / LSTMs.\n",
        "            nn.utils.clip_grad_norm_(net.parameters(), clip)\n",
        "            opt.step()\n",
        "            \n",
        "            # loss stats\n",
        "            if counter % print_every == 0:\n",
        "                # Get validation loss\n",
        "                val_h = net.init_hidden(batch_size)\n",
        "                val_losses = []\n",
        "                net.eval()\n",
        "                for x, y in get_batches(val_data, batch_size, seq_length):\n",
        "                    # One-hot encode our data and make them Torch tensors\n",
        "                    x = one_hot_encode(x, n_chars)\n",
        "                    x, y = torch.from_numpy(x), torch.from_numpy(y)\n",
        "                    \n",
        "                    # Creating new variables for the hidden state, otherwise\n",
        "                    # we'd backprop through the entire training history\n",
        "                    val_h = tuple([each.data for each in val_h])\n",
        "                    \n",
        "                    inputs, targets = x, y\n",
        "                    if(train_on_gpu):\n",
        "                        inputs, targets = inputs.cuda(), targets.cuda()\n",
        "\n",
        "                    output, val_h = net(inputs, val_h)\n",
        "                    val_loss = criterion(output, targets.view(batch_size*seq_length))\n",
        "                \n",
        "                    val_losses.append(val_loss.item())\n",
        "                \n",
        "                net.train() # reset to train mode after iterationg through validation data\n",
        "                \n",
        "                print(\"Epoch: {}/{}...\".format(e+1, epochs),\n",
        "                      \"Step: {}...\".format(counter),\n",
        "                      \"Loss: {:.4f}...\".format(loss.item()),\n",
        "                      \"Val Loss: {:.4f}\".format(np.mean(val_losses)))"
      ],
      "execution_count": 0,
      "outputs": []
    },
    {
      "metadata": {
        "id": "nKrtot5vMvqg",
        "colab_type": "text"
      },
      "cell_type": "markdown",
      "source": [
        "## Instantiating the model\n",
        "\n",
        "Now we can actually train the network. First we'll create the network itself, with some given hyperparameters. Then, define the mini-batches sizes, and start training!"
      ]
    },
    {
      "metadata": {
        "id": "fPoiY3GIMvqh",
        "colab_type": "code",
        "colab": {
          "base_uri": "https://localhost:8080/",
          "height": 105
        },
        "outputId": "c395e618-cbdf-42eb-a8b5-11c65a10557f"
      },
      "cell_type": "code",
      "source": [
        "## TODO: set you model hyperparameters\n",
        "# define and print the net\n",
        "n_hidden=512\n",
        "n_layers=2\n",
        "\n",
        "net = CharRNN(chars, n_hidden, n_layers)\n",
        "print(net)"
      ],
      "execution_count": 22,
      "outputs": [
        {
          "output_type": "stream",
          "text": [
            "CharRNN(\n",
            "  (lstm): LSTM(83, 512, num_layers=2, batch_first=True, dropout=0.5)\n",
            "  (dropout): Dropout(p=0.5)\n",
            "  (fc): Linear(in_features=512, out_features=83, bias=True)\n",
            ")\n"
          ],
          "name": "stdout"
        }
      ]
    },
    {
      "metadata": {
        "id": "zpnCyAypMvqj",
        "colab_type": "text"
      },
      "cell_type": "markdown",
      "source": [
        "### Set your training hyperparameters!"
      ]
    },
    {
      "metadata": {
        "scrolled": true,
        "id": "w0SSQw2fMvqk",
        "colab_type": "code",
        "colab": {
          "base_uri": "https://localhost:8080/",
          "height": 4910
        },
        "outputId": "0fab0ad7-4bfe-46ce-8537-552297c8c1e9"
      },
      "cell_type": "code",
      "source": [
        "batch_size = 128\n",
        "seq_length = 100\n",
        "n_epochs = 20 # start small if you are just testing initial behavior\n",
        "\n",
        "# train the model\n",
        "train(net, encoded, epochs=n_epochs, batch_size=batch_size, seq_length=seq_length, lr=0.001, print_every=10)"
      ],
      "execution_count": 23,
      "outputs": [
        {
          "output_type": "stream",
          "text": [
            "Epoch: 1/20... Step: 10... Loss: 3.2580... Val Loss: 3.2020\n",
            "Epoch: 1/20... Step: 20... Loss: 3.1463... Val Loss: 3.1320\n",
            "Epoch: 1/20... Step: 30... Loss: 3.1376... Val Loss: 3.1228\n",
            "Epoch: 1/20... Step: 40... Loss: 3.1123... Val Loss: 3.1184\n",
            "Epoch: 1/20... Step: 50... Loss: 3.1401... Val Loss: 3.1164\n",
            "Epoch: 1/20... Step: 60... Loss: 3.1133... Val Loss: 3.1130\n",
            "Epoch: 1/20... Step: 70... Loss: 3.1012... Val Loss: 3.1080\n",
            "Epoch: 1/20... Step: 80... Loss: 3.1072... Val Loss: 3.0930\n",
            "Epoch: 1/20... Step: 90... Loss: 3.0807... Val Loss: 3.0583\n",
            "Epoch: 1/20... Step: 100... Loss: 3.0056... Val Loss: 2.9845\n",
            "Epoch: 1/20... Step: 110... Loss: 2.9266... Val Loss: 2.9191\n",
            "Epoch: 1/20... Step: 120... Loss: 2.8079... Val Loss: 2.7873\n",
            "Epoch: 1/20... Step: 130... Loss: 2.7368... Val Loss: 2.6796\n",
            "Epoch: 2/20... Step: 140... Loss: 2.6388... Val Loss: 2.5876\n",
            "Epoch: 2/20... Step: 150... Loss: 2.5715... Val Loss: 2.5179\n",
            "Epoch: 2/20... Step: 160... Loss: 2.5137... Val Loss: 2.4705\n",
            "Epoch: 2/20... Step: 170... Loss: 2.4444... Val Loss: 2.4282\n",
            "Epoch: 2/20... Step: 180... Loss: 2.4273... Val Loss: 2.4035\n",
            "Epoch: 2/20... Step: 190... Loss: 2.3697... Val Loss: 2.3704\n",
            "Epoch: 2/20... Step: 200... Loss: 2.3586... Val Loss: 2.3452\n",
            "Epoch: 2/20... Step: 210... Loss: 2.3368... Val Loss: 2.3135\n",
            "Epoch: 2/20... Step: 220... Loss: 2.2931... Val Loss: 2.2802\n",
            "Epoch: 2/20... Step: 230... Loss: 2.2803... Val Loss: 2.2802\n",
            "Epoch: 2/20... Step: 240... Loss: 2.2639... Val Loss: 2.2333\n",
            "Epoch: 2/20... Step: 250... Loss: 2.1954... Val Loss: 2.2019\n",
            "Epoch: 2/20... Step: 260... Loss: 2.1758... Val Loss: 2.1773\n",
            "Epoch: 2/20... Step: 270... Loss: 2.1823... Val Loss: 2.1599\n",
            "Epoch: 3/20... Step: 280... Loss: 2.1785... Val Loss: 2.1314\n",
            "Epoch: 3/20... Step: 290... Loss: 2.1379... Val Loss: 2.1088\n",
            "Epoch: 3/20... Step: 300... Loss: 2.1158... Val Loss: 2.0880\n",
            "Epoch: 3/20... Step: 310... Loss: 2.0846... Val Loss: 2.0692\n",
            "Epoch: 3/20... Step: 320... Loss: 2.0527... Val Loss: 2.0448\n",
            "Epoch: 3/20... Step: 330... Loss: 2.0302... Val Loss: 2.0338\n",
            "Epoch: 3/20... Step: 340... Loss: 2.0515... Val Loss: 2.0095\n",
            "Epoch: 3/20... Step: 350... Loss: 2.0287... Val Loss: 1.9956\n",
            "Epoch: 3/20... Step: 360... Loss: 1.9619... Val Loss: 1.9797\n",
            "Epoch: 3/20... Step: 370... Loss: 1.9967... Val Loss: 1.9674\n",
            "Epoch: 3/20... Step: 380... Loss: 1.9728... Val Loss: 1.9471\n",
            "Epoch: 3/20... Step: 390... Loss: 1.9312... Val Loss: 1.9304\n",
            "Epoch: 3/20... Step: 400... Loss: 1.9076... Val Loss: 1.9181\n",
            "Epoch: 3/20... Step: 410... Loss: 1.9217... Val Loss: 1.9055\n",
            "Epoch: 4/20... Step: 420... Loss: 1.9203... Val Loss: 1.8902\n",
            "Epoch: 4/20... Step: 430... Loss: 1.9102... Val Loss: 1.8724\n",
            "Epoch: 4/20... Step: 440... Loss: 1.8881... Val Loss: 1.8621\n",
            "Epoch: 4/20... Step: 450... Loss: 1.8357... Val Loss: 1.8453\n",
            "Epoch: 4/20... Step: 460... Loss: 1.8226... Val Loss: 1.8386\n",
            "Epoch: 4/20... Step: 470... Loss: 1.8543... Val Loss: 1.8235\n",
            "Epoch: 4/20... Step: 480... Loss: 1.8306... Val Loss: 1.8105\n",
            "Epoch: 4/20... Step: 490... Loss: 1.8398... Val Loss: 1.7987\n",
            "Epoch: 4/20... Step: 500... Loss: 1.8280... Val Loss: 1.7926\n",
            "Epoch: 4/20... Step: 510... Loss: 1.8112... Val Loss: 1.7835\n",
            "Epoch: 4/20... Step: 520... Loss: 1.8160... Val Loss: 1.7720\n",
            "Epoch: 4/20... Step: 530... Loss: 1.7785... Val Loss: 1.7640\n",
            "Epoch: 4/20... Step: 540... Loss: 1.7340... Val Loss: 1.7540\n",
            "Epoch: 4/20... Step: 550... Loss: 1.7879... Val Loss: 1.7413\n",
            "Epoch: 5/20... Step: 560... Loss: 1.7562... Val Loss: 1.7324\n",
            "Epoch: 5/20... Step: 570... Loss: 1.7383... Val Loss: 1.7238\n",
            "Epoch: 5/20... Step: 580... Loss: 1.7084... Val Loss: 1.7155\n",
            "Epoch: 5/20... Step: 590... Loss: 1.7153... Val Loss: 1.7039\n",
            "Epoch: 5/20... Step: 600... Loss: 1.7090... Val Loss: 1.6993\n",
            "Epoch: 5/20... Step: 610... Loss: 1.6929... Val Loss: 1.6894\n",
            "Epoch: 5/20... Step: 620... Loss: 1.6954... Val Loss: 1.6837\n",
            "Epoch: 5/20... Step: 630... Loss: 1.7133... Val Loss: 1.6772\n",
            "Epoch: 5/20... Step: 640... Loss: 1.6797... Val Loss: 1.6713\n",
            "Epoch: 5/20... Step: 650... Loss: 1.6644... Val Loss: 1.6600\n",
            "Epoch: 5/20... Step: 660... Loss: 1.6446... Val Loss: 1.6541\n",
            "Epoch: 5/20... Step: 670... Loss: 1.6760... Val Loss: 1.6504\n",
            "Epoch: 5/20... Step: 680... Loss: 1.6736... Val Loss: 1.6425\n",
            "Epoch: 5/20... Step: 690... Loss: 1.6527... Val Loss: 1.6350\n",
            "Epoch: 6/20... Step: 700... Loss: 1.6503... Val Loss: 1.6319\n",
            "Epoch: 6/20... Step: 710... Loss: 1.6341... Val Loss: 1.6254\n",
            "Epoch: 6/20... Step: 720... Loss: 1.6155... Val Loss: 1.6183\n",
            "Epoch: 6/20... Step: 730... Loss: 1.6345... Val Loss: 1.6107\n",
            "Epoch: 6/20... Step: 740... Loss: 1.6009... Val Loss: 1.6073\n",
            "Epoch: 6/20... Step: 750... Loss: 1.5893... Val Loss: 1.5996\n",
            "Epoch: 6/20... Step: 760... Loss: 1.6275... Val Loss: 1.5976\n",
            "Epoch: 6/20... Step: 770... Loss: 1.6066... Val Loss: 1.5919\n",
            "Epoch: 6/20... Step: 780... Loss: 1.5845... Val Loss: 1.5928\n",
            "Epoch: 6/20... Step: 790... Loss: 1.5734... Val Loss: 1.5843\n",
            "Epoch: 6/20... Step: 800... Loss: 1.5944... Val Loss: 1.5772\n",
            "Epoch: 6/20... Step: 810... Loss: 1.5807... Val Loss: 1.5749\n",
            "Epoch: 6/20... Step: 820... Loss: 1.5418... Val Loss: 1.5688\n",
            "Epoch: 6/20... Step: 830... Loss: 1.5833... Val Loss: 1.5643\n",
            "Epoch: 7/20... Step: 840... Loss: 1.5268... Val Loss: 1.5573\n",
            "Epoch: 7/20... Step: 850... Loss: 1.5596... Val Loss: 1.5550\n",
            "Epoch: 7/20... Step: 860... Loss: 1.5294... Val Loss: 1.5507\n",
            "Epoch: 7/20... Step: 870... Loss: 1.5551... Val Loss: 1.5475\n",
            "Epoch: 7/20... Step: 880... Loss: 1.5488... Val Loss: 1.5425\n",
            "Epoch: 7/20... Step: 890... Loss: 1.5482... Val Loss: 1.5398\n",
            "Epoch: 7/20... Step: 900... Loss: 1.5343... Val Loss: 1.5381\n",
            "Epoch: 7/20... Step: 910... Loss: 1.4992... Val Loss: 1.5328\n",
            "Epoch: 7/20... Step: 920... Loss: 1.5199... Val Loss: 1.5313\n",
            "Epoch: 7/20... Step: 930... Loss: 1.5201... Val Loss: 1.5231\n",
            "Epoch: 7/20... Step: 940... Loss: 1.5159... Val Loss: 1.5162\n",
            "Epoch: 7/20... Step: 950... Loss: 1.5266... Val Loss: 1.5158\n",
            "Epoch: 7/20... Step: 960... Loss: 1.5287... Val Loss: 1.5133\n",
            "Epoch: 7/20... Step: 970... Loss: 1.5230... Val Loss: 1.5107\n",
            "Epoch: 8/20... Step: 980... Loss: 1.5011... Val Loss: 1.5045\n",
            "Epoch: 8/20... Step: 990... Loss: 1.5068... Val Loss: 1.5031\n",
            "Epoch: 8/20... Step: 1000... Loss: 1.4920... Val Loss: 1.4969\n",
            "Epoch: 8/20... Step: 1010... Loss: 1.5318... Val Loss: 1.4940\n",
            "Epoch: 8/20... Step: 1020... Loss: 1.5040... Val Loss: 1.4920\n",
            "Epoch: 8/20... Step: 1030... Loss: 1.4926... Val Loss: 1.4944\n",
            "Epoch: 8/20... Step: 1040... Loss: 1.4898... Val Loss: 1.4949\n",
            "Epoch: 8/20... Step: 1050... Loss: 1.4754... Val Loss: 1.4843\n",
            "Epoch: 8/20... Step: 1060... Loss: 1.4748... Val Loss: 1.4815\n",
            "Epoch: 8/20... Step: 1070... Loss: 1.4839... Val Loss: 1.4793\n",
            "Epoch: 8/20... Step: 1080... Loss: 1.4759... Val Loss: 1.4757\n",
            "Epoch: 8/20... Step: 1090... Loss: 1.4612... Val Loss: 1.4728\n",
            "Epoch: 8/20... Step: 1100... Loss: 1.4537... Val Loss: 1.4701\n",
            "Epoch: 8/20... Step: 1110... Loss: 1.4676... Val Loss: 1.4690\n",
            "Epoch: 9/20... Step: 1120... Loss: 1.4797... Val Loss: 1.4662\n",
            "Epoch: 9/20... Step: 1130... Loss: 1.4593... Val Loss: 1.4612\n",
            "Epoch: 9/20... Step: 1140... Loss: 1.4669... Val Loss: 1.4583\n",
            "Epoch: 9/20... Step: 1150... Loss: 1.4820... Val Loss: 1.4600\n",
            "Epoch: 9/20... Step: 1160... Loss: 1.4378... Val Loss: 1.4559\n",
            "Epoch: 9/20... Step: 1170... Loss: 1.4428... Val Loss: 1.4540\n",
            "Epoch: 9/20... Step: 1180... Loss: 1.4404... Val Loss: 1.4593\n",
            "Epoch: 9/20... Step: 1190... Loss: 1.4747... Val Loss: 1.4494\n",
            "Epoch: 9/20... Step: 1200... Loss: 1.4242... Val Loss: 1.4516\n",
            "Epoch: 9/20... Step: 1210... Loss: 1.4343... Val Loss: 1.4457\n",
            "Epoch: 9/20... Step: 1220... Loss: 1.4320... Val Loss: 1.4408\n",
            "Epoch: 9/20... Step: 1230... Loss: 1.4182... Val Loss: 1.4395\n",
            "Epoch: 9/20... Step: 1240... Loss: 1.4233... Val Loss: 1.4373\n",
            "Epoch: 9/20... Step: 1250... Loss: 1.4329... Val Loss: 1.4349\n",
            "Epoch: 10/20... Step: 1260... Loss: 1.4394... Val Loss: 1.4331\n",
            "Epoch: 10/20... Step: 1270... Loss: 1.4264... Val Loss: 1.4321\n",
            "Epoch: 10/20... Step: 1280... Loss: 1.4330... Val Loss: 1.4275\n",
            "Epoch: 10/20... Step: 1290... Loss: 1.4291... Val Loss: 1.4301\n",
            "Epoch: 10/20... Step: 1300... Loss: 1.4151... Val Loss: 1.4265\n",
            "Epoch: 10/20... Step: 1310... Loss: 1.4223... Val Loss: 1.4258\n",
            "Epoch: 10/20... Step: 1320... Loss: 1.3910... Val Loss: 1.4269\n",
            "Epoch: 10/20... Step: 1330... Loss: 1.4006... Val Loss: 1.4217\n",
            "Epoch: 10/20... Step: 1340... Loss: 1.3825... Val Loss: 1.4186\n",
            "Epoch: 10/20... Step: 1350... Loss: 1.3782... Val Loss: 1.4179\n",
            "Epoch: 10/20... Step: 1360... Loss: 1.3881... Val Loss: 1.4146\n",
            "Epoch: 10/20... Step: 1370... Loss: 1.3811... Val Loss: 1.4137\n",
            "Epoch: 10/20... Step: 1380... Loss: 1.4128... Val Loss: 1.4111\n",
            "Epoch: 10/20... Step: 1390... Loss: 1.4231... Val Loss: 1.4077\n",
            "Epoch: 11/20... Step: 1400... Loss: 1.4322... Val Loss: 1.4105\n",
            "Epoch: 11/20... Step: 1410... Loss: 1.4302... Val Loss: 1.4062\n",
            "Epoch: 11/20... Step: 1420... Loss: 1.4196... Val Loss: 1.4039\n",
            "Epoch: 11/20... Step: 1430... Loss: 1.3846... Val Loss: 1.4076\n",
            "Epoch: 11/20... Step: 1440... Loss: 1.4202... Val Loss: 1.4008\n",
            "Epoch: 11/20... Step: 1450... Loss: 1.3462... Val Loss: 1.4018\n",
            "Epoch: 11/20... Step: 1460... Loss: 1.3696... Val Loss: 1.3989\n",
            "Epoch: 11/20... Step: 1470... Loss: 1.3635... Val Loss: 1.3999\n",
            "Epoch: 11/20... Step: 1480... Loss: 1.3743... Val Loss: 1.3959\n",
            "Epoch: 11/20... Step: 1490... Loss: 1.3711... Val Loss: 1.3929\n",
            "Epoch: 11/20... Step: 1500... Loss: 1.3566... Val Loss: 1.3932\n",
            "Epoch: 11/20... Step: 1510... Loss: 1.3441... Val Loss: 1.3934\n",
            "Epoch: 11/20... Step: 1520... Loss: 1.3782... Val Loss: 1.3887\n",
            "Epoch: 12/20... Step: 1530... Loss: 1.4275... Val Loss: 1.3863\n",
            "Epoch: 12/20... Step: 1540... Loss: 1.3885... Val Loss: 1.3875\n",
            "Epoch: 12/20... Step: 1550... Loss: 1.3849... Val Loss: 1.3835\n",
            "Epoch: 12/20... Step: 1560... Loss: 1.3984... Val Loss: 1.3843\n",
            "Epoch: 12/20... Step: 1570... Loss: 1.3464... Val Loss: 1.3867\n",
            "Epoch: 12/20... Step: 1580... Loss: 1.3166... Val Loss: 1.3798\n",
            "Epoch: 12/20... Step: 1590... Loss: 1.3176... Val Loss: 1.3839\n",
            "Epoch: 12/20... Step: 1600... Loss: 1.3527... Val Loss: 1.3820\n",
            "Epoch: 12/20... Step: 1610... Loss: 1.3377... Val Loss: 1.3860\n",
            "Epoch: 12/20... Step: 1620... Loss: 1.3449... Val Loss: 1.3787\n",
            "Epoch: 12/20... Step: 1630... Loss: 1.3587... Val Loss: 1.3786\n",
            "Epoch: 12/20... Step: 1640... Loss: 1.3374... Val Loss: 1.3766\n",
            "Epoch: 12/20... Step: 1650... Loss: 1.3150... Val Loss: 1.3747\n",
            "Epoch: 12/20... Step: 1660... Loss: 1.3630... Val Loss: 1.3707\n",
            "Epoch: 13/20... Step: 1670... Loss: 1.3417... Val Loss: 1.3702\n",
            "Epoch: 13/20... Step: 1680... Loss: 1.3533... Val Loss: 1.3691\n",
            "Epoch: 13/20... Step: 1690... Loss: 1.3254... Val Loss: 1.3655\n",
            "Epoch: 13/20... Step: 1700... Loss: 1.3379... Val Loss: 1.3645\n",
            "Epoch: 13/20... Step: 1710... Loss: 1.2987... Val Loss: 1.3690\n",
            "Epoch: 13/20... Step: 1720... Loss: 1.3287... Val Loss: 1.3618\n",
            "Epoch: 13/20... Step: 1730... Loss: 1.3558... Val Loss: 1.3627\n",
            "Epoch: 13/20... Step: 1740... Loss: 1.3135... Val Loss: 1.3617\n",
            "Epoch: 13/20... Step: 1750... Loss: 1.2961... Val Loss: 1.3656\n",
            "Epoch: 13/20... Step: 1760... Loss: 1.3254... Val Loss: 1.3609\n",
            "Epoch: 13/20... Step: 1770... Loss: 1.3390... Val Loss: 1.3592\n",
            "Epoch: 13/20... Step: 1780... Loss: 1.3180... Val Loss: 1.3579\n",
            "Epoch: 13/20... Step: 1790... Loss: 1.3073... Val Loss: 1.3581\n",
            "Epoch: 13/20... Step: 1800... Loss: 1.3236... Val Loss: 1.3512\n",
            "Epoch: 14/20... Step: 1810... Loss: 1.3344... Val Loss: 1.3616\n",
            "Epoch: 14/20... Step: 1820... Loss: 1.3197... Val Loss: 1.3534\n",
            "Epoch: 14/20... Step: 1830... Loss: 1.3407... Val Loss: 1.3513\n",
            "Epoch: 14/20... Step: 1840... Loss: 1.2821... Val Loss: 1.3550\n",
            "Epoch: 14/20... Step: 1850... Loss: 1.2724... Val Loss: 1.3582\n",
            "Epoch: 14/20... Step: 1860... Loss: 1.3307... Val Loss: 1.3479\n",
            "Epoch: 14/20... Step: 1870... Loss: 1.3278... Val Loss: 1.3501\n",
            "Epoch: 14/20... Step: 1880... Loss: 1.3139... Val Loss: 1.3526\n",
            "Epoch: 14/20... Step: 1890... Loss: 1.3469... Val Loss: 1.3525\n",
            "Epoch: 14/20... Step: 1900... Loss: 1.3160... Val Loss: 1.3457\n",
            "Epoch: 14/20... Step: 1910... Loss: 1.3173... Val Loss: 1.3448\n",
            "Epoch: 14/20... Step: 1920... Loss: 1.3048... Val Loss: 1.3454\n",
            "Epoch: 14/20... Step: 1930... Loss: 1.2770... Val Loss: 1.3428\n",
            "Epoch: 14/20... Step: 1940... Loss: 1.3325... Val Loss: 1.3385\n",
            "Epoch: 15/20... Step: 1950... Loss: 1.3005... Val Loss: 1.3418\n",
            "Epoch: 15/20... Step: 1960... Loss: 1.3004... Val Loss: 1.3422\n",
            "Epoch: 15/20... Step: 1970... Loss: 1.2916... Val Loss: 1.3410\n",
            "Epoch: 15/20... Step: 1980... Loss: 1.2884... Val Loss: 1.3458\n",
            "Epoch: 15/20... Step: 1990... Loss: 1.2917... Val Loss: 1.3396\n",
            "Epoch: 15/20... Step: 2000... Loss: 1.2730... Val Loss: 1.3377\n",
            "Epoch: 15/20... Step: 2010... Loss: 1.2952... Val Loss: 1.3382\n",
            "Epoch: 15/20... Step: 2020... Loss: 1.3167... Val Loss: 1.3386\n",
            "Epoch: 15/20... Step: 2030... Loss: 1.2762... Val Loss: 1.3373\n",
            "Epoch: 15/20... Step: 2040... Loss: 1.3007... Val Loss: 1.3327\n",
            "Epoch: 15/20... Step: 2050... Loss: 1.2866... Val Loss: 1.3332\n",
            "Epoch: 15/20... Step: 2060... Loss: 1.2880... Val Loss: 1.3343\n",
            "Epoch: 15/20... Step: 2070... Loss: 1.2993... Val Loss: 1.3334\n",
            "Epoch: 15/20... Step: 2080... Loss: 1.2928... Val Loss: 1.3260\n",
            "Epoch: 16/20... Step: 2090... Loss: 1.3009... Val Loss: 1.3276\n",
            "Epoch: 16/20... Step: 2100... Loss: 1.2802... Val Loss: 1.3297\n",
            "Epoch: 16/20... Step: 2110... Loss: 1.2765... Val Loss: 1.3297\n",
            "Epoch: 16/20... Step: 2120... Loss: 1.2891... Val Loss: 1.3299\n",
            "Epoch: 16/20... Step: 2130... Loss: 1.2671... Val Loss: 1.3276\n",
            "Epoch: 16/20... Step: 2140... Loss: 1.2673... Val Loss: 1.3218\n",
            "Epoch: 16/20... Step: 2150... Loss: 1.3013... Val Loss: 1.3271\n",
            "Epoch: 16/20... Step: 2160... Loss: 1.2781... Val Loss: 1.3274\n",
            "Epoch: 16/20... Step: 2170... Loss: 1.2736... Val Loss: 1.3278\n",
            "Epoch: 16/20... Step: 2180... Loss: 1.2629... Val Loss: 1.3250\n",
            "Epoch: 16/20... Step: 2190... Loss: 1.2761... Val Loss: 1.3236\n",
            "Epoch: 16/20... Step: 2200... Loss: 1.2621... Val Loss: 1.3179\n",
            "Epoch: 16/20... Step: 2210... Loss: 1.2324... Val Loss: 1.3183\n",
            "Epoch: 16/20... Step: 2220... Loss: 1.2779... Val Loss: 1.3187\n",
            "Epoch: 17/20... Step: 2230... Loss: 1.2552... Val Loss: 1.3190\n",
            "Epoch: 17/20... Step: 2240... Loss: 1.2623... Val Loss: 1.3204\n",
            "Epoch: 17/20... Step: 2250... Loss: 1.2489... Val Loss: 1.3215\n",
            "Epoch: 17/20... Step: 2260... Loss: 1.2633... Val Loss: 1.3189\n",
            "Epoch: 17/20... Step: 2270... Loss: 1.2745... Val Loss: 1.3169\n",
            "Epoch: 17/20... Step: 2280... Loss: 1.2731... Val Loss: 1.3136\n",
            "Epoch: 17/20... Step: 2290... Loss: 1.2739... Val Loss: 1.3175\n",
            "Epoch: 17/20... Step: 2300... Loss: 1.2401... Val Loss: 1.3173\n",
            "Epoch: 17/20... Step: 2310... Loss: 1.2559... Val Loss: 1.3170\n",
            "Epoch: 17/20... Step: 2320... Loss: 1.2490... Val Loss: 1.3151\n",
            "Epoch: 17/20... Step: 2330... Loss: 1.2513... Val Loss: 1.3160\n",
            "Epoch: 17/20... Step: 2340... Loss: 1.2683... Val Loss: 1.3104\n",
            "Epoch: 17/20... Step: 2350... Loss: 1.2762... Val Loss: 1.3136\n",
            "Epoch: 17/20... Step: 2360... Loss: 1.2734... Val Loss: 1.3098\n",
            "Epoch: 18/20... Step: 2370... Loss: 1.2440... Val Loss: 1.3099\n",
            "Epoch: 18/20... Step: 2380... Loss: 1.2493... Val Loss: 1.3107\n",
            "Epoch: 18/20... Step: 2390... Loss: 1.2525... Val Loss: 1.3102\n",
            "Epoch: 18/20... Step: 2400... Loss: 1.2763... Val Loss: 1.3103\n",
            "Epoch: 18/20... Step: 2410... Loss: 1.2666... Val Loss: 1.3102\n",
            "Epoch: 18/20... Step: 2420... Loss: 1.2511... Val Loss: 1.3059\n",
            "Epoch: 18/20... Step: 2430... Loss: 1.2598... Val Loss: 1.3097\n",
            "Epoch: 18/20... Step: 2440... Loss: 1.2512... Val Loss: 1.3096\n",
            "Epoch: 18/20... Step: 2450... Loss: 1.2298... Val Loss: 1.3082\n",
            "Epoch: 18/20... Step: 2460... Loss: 1.2534... Val Loss: 1.3078\n",
            "Epoch: 18/20... Step: 2470... Loss: 1.2456... Val Loss: 1.3050\n",
            "Epoch: 18/20... Step: 2480... Loss: 1.2361... Val Loss: 1.3030\n",
            "Epoch: 18/20... Step: 2490... Loss: 1.2355... Val Loss: 1.3048\n",
            "Epoch: 18/20... Step: 2500... Loss: 1.2330... Val Loss: 1.3054\n",
            "Epoch: 19/20... Step: 2510... Loss: 1.2442... Val Loss: 1.3015\n",
            "Epoch: 19/20... Step: 2520... Loss: 1.2486... Val Loss: 1.3060\n",
            "Epoch: 19/20... Step: 2530... Loss: 1.2562... Val Loss: 1.3054\n",
            "Epoch: 19/20... Step: 2540... Loss: 1.2685... Val Loss: 1.3023\n",
            "Epoch: 19/20... Step: 2550... Loss: 1.2278... Val Loss: 1.3025\n",
            "Epoch: 19/20... Step: 2560... Loss: 1.2433... Val Loss: 1.2987\n",
            "Epoch: 19/20... Step: 2570... Loss: 1.2357... Val Loss: 1.2992\n",
            "Epoch: 19/20... Step: 2580... Loss: 1.2677... Val Loss: 1.3031\n",
            "Epoch: 19/20... Step: 2590... Loss: 1.2265... Val Loss: 1.3021\n",
            "Epoch: 19/20... Step: 2600... Loss: 1.2336... Val Loss: 1.2987\n",
            "Epoch: 19/20... Step: 2610... Loss: 1.2378... Val Loss: 1.2997\n",
            "Epoch: 19/20... Step: 2620... Loss: 1.2159... Val Loss: 1.3012\n",
            "Epoch: 19/20... Step: 2630... Loss: 1.2306... Val Loss: 1.3030\n",
            "Epoch: 19/20... Step: 2640... Loss: 1.2386... Val Loss: 1.3011\n",
            "Epoch: 20/20... Step: 2650... Loss: 1.2426... Val Loss: 1.2993\n",
            "Epoch: 20/20... Step: 2660... Loss: 1.2469... Val Loss: 1.3000\n",
            "Epoch: 20/20... Step: 2670... Loss: 1.2490... Val Loss: 1.2987\n",
            "Epoch: 20/20... Step: 2680... Loss: 1.2417... Val Loss: 1.2977\n",
            "Epoch: 20/20... Step: 2690... Loss: 1.2310... Val Loss: 1.2990\n",
            "Epoch: 20/20... Step: 2700... Loss: 1.2443... Val Loss: 1.2961\n",
            "Epoch: 20/20... Step: 2710... Loss: 1.2122... Val Loss: 1.2973\n",
            "Epoch: 20/20... Step: 2720... Loss: 1.2138... Val Loss: 1.2966\n",
            "Epoch: 20/20... Step: 2730... Loss: 1.2087... Val Loss: 1.2961\n",
            "Epoch: 20/20... Step: 2740... Loss: 1.2045... Val Loss: 1.2970\n",
            "Epoch: 20/20... Step: 2750... Loss: 1.2127... Val Loss: 1.2971\n",
            "Epoch: 20/20... Step: 2760... Loss: 1.2037... Val Loss: 1.2926\n",
            "Epoch: 20/20... Step: 2770... Loss: 1.2405... Val Loss: 1.2984\n",
            "Epoch: 20/20... Step: 2780... Loss: 1.2631... Val Loss: 1.2962\n"
          ],
          "name": "stdout"
        }
      ]
    },
    {
      "metadata": {
        "id": "mGOTg2NFMvqn",
        "colab_type": "text"
      },
      "cell_type": "markdown",
      "source": [
        "## Getting the best model\n",
        "\n",
        "To set your hyperparameters to get the best performance, you'll want to watch the training and validation losses. If your training loss is much lower than the validation loss, you're overfitting. Increase regularization (more dropout) or use a smaller network. If the training and validation losses are close, you're underfitting so you can increase the size of the network."
      ]
    },
    {
      "metadata": {
        "id": "rzy7fz01Mvqn",
        "colab_type": "text"
      },
      "cell_type": "markdown",
      "source": [
        "## Hyperparameters\n",
        "\n",
        "Here are the hyperparameters for the network.\n",
        "\n",
        "In defining the model:\n",
        "* `n_hidden` - The number of units in the hidden layers.\n",
        "* `n_layers` - Number of hidden LSTM layers to use.\n",
        "\n",
        "We assume that dropout probability and learning rate will be kept at the default, in this example.\n",
        "\n",
        "And in training:\n",
        "* `batch_size` - Number of sequences running through the network in one pass.\n",
        "* `seq_length` - Number of characters in the sequence the network is trained on. Larger is better typically, the network will learn more long range dependencies. But it takes longer to train. 100 is typically a good number here.\n",
        "* `lr` - Learning rate for training\n",
        "\n",
        "Here's some good advice from Andrej Karpathy on training the network. I'm going to copy it in here for your benefit, but also link to [where it originally came from](https://github.com/karpathy/char-rnn#tips-and-tricks).\n",
        "\n",
        "> ## Tips and Tricks\n",
        "\n",
        ">### Monitoring Validation Loss vs. Training Loss\n",
        ">If you're somewhat new to Machine Learning or Neural Networks it can take a bit of expertise to get good models. The most important quantity to keep track of is the difference between your training loss (printed during training) and the validation loss (printed once in a while when the RNN is run on the validation data (by default every 1000 iterations)). In particular:\n",
        "\n",
        "> - If your training loss is much lower than validation loss then this means the network might be **overfitting**. Solutions to this are to decrease your network size, or to increase dropout. For example you could try dropout of 0.5 and so on.\n",
        "> - If your training/validation loss are about equal then your model is **underfitting**. Increase the size of your model (either number of layers or the raw number of neurons per layer)\n",
        "\n",
        "> ### Approximate number of parameters\n",
        "\n",
        "> The two most important parameters that control the model are `n_hidden` and `n_layers`. I would advise that you always use `n_layers` of either 2/3. The `n_hidden` can be adjusted based on how much data you have. The two important quantities to keep track of here are:\n",
        "\n",
        "> - The number of parameters in your model. This is printed when you start training.\n",
        "> - The size of your dataset. 1MB file is approximately 1 million characters.\n",
        "\n",
        ">These two should be about the same order of magnitude. It's a little tricky to tell. Here are some examples:\n",
        "\n",
        "> - I have a 100MB dataset and I'm using the default parameter settings (which currently print 150K parameters). My data size is significantly larger (100 mil >> 0.15 mil), so I expect to heavily underfit. I am thinking I can comfortably afford to make `n_hidden` larger.\n",
        "> - I have a 10MB dataset and running a 10 million parameter model. I'm slightly nervous and I'm carefully monitoring my validation loss. If it's larger than my training loss then I may want to try to increase dropout a bit and see if that helps the validation loss.\n",
        "\n",
        "> ### Best models strategy\n",
        "\n",
        ">The winning strategy to obtaining very good models (if you have the compute time) is to always err on making the network larger (as large as you're willing to wait for it to compute) and then try different dropout values (between 0,1). Whatever model has the best validation performance (the loss, written in the checkpoint filename, low is good) is the one you should use in the end.\n",
        "\n",
        ">It is very common in deep learning to run many different models with many different hyperparameter settings, and in the end take whatever checkpoint gave the best validation performance.\n",
        "\n",
        ">By the way, the size of your training and validation splits are also parameters. Make sure you have a decent amount of data in your validation set or otherwise the validation performance will be noisy and not very informative."
      ]
    },
    {
      "metadata": {
        "id": "Wenc1E-sMvqo",
        "colab_type": "text"
      },
      "cell_type": "markdown",
      "source": [
        "## Checkpoint\n",
        "\n",
        "After training, we'll save the model so we can load it again later if we need too. Here I'm saving the parameters needed to create the same architecture, the hidden layer hyperparameters and the text characters."
      ]
    },
    {
      "metadata": {
        "id": "Mp10wDdmMvqp",
        "colab_type": "code",
        "colab": {}
      },
      "cell_type": "code",
      "source": [
        "# change the name, for saving multiple files\n",
        "model_name = 'rnn_x_epoch.net'\n",
        "\n",
        "checkpoint = {'n_hidden': net.n_hidden,\n",
        "              'n_layers': net.n_layers,\n",
        "              'state_dict': net.state_dict(),\n",
        "              'tokens': net.chars}\n",
        "\n",
        "with open(model_name, 'wb') as f:\n",
        "    torch.save(checkpoint, f)"
      ],
      "execution_count": 0,
      "outputs": []
    },
    {
      "metadata": {
        "id": "hBF3XckwMvqr",
        "colab_type": "text"
      },
      "cell_type": "markdown",
      "source": [
        "---\n",
        "## Making Predictions\n",
        "\n",
        "Now that the model is trained, we'll want to sample from it and make predictions about next characters! To sample, we pass in a character and have the network predict the next character. Then we take that character, pass it back in, and get another predicted character. Just keep doing this and you'll generate a bunch of text!\n",
        "\n",
        "### A note on the `predict`  function\n",
        "\n",
        "The output of our RNN is from a fully-connected layer and it outputs a **distribution of next-character scores**.\n",
        "\n",
        "> To actually get the next character, we apply a softmax function, which gives us a *probability* distribution that we can then sample to predict the next character.\n",
        "\n",
        "### Top K sampling\n",
        "\n",
        "Our predictions come from a categorical probability distribution over all the possible characters. We can make the sample text and make it more reasonable to handle (with less variables) by only considering some $K$ most probable characters. This will prevent the network from giving us completely absurd characters while allowing it to introduce some noise and randomness into the sampled text. Read more about [topk, here](https://pytorch.org/docs/stable/torch.html#torch.topk).\n"
      ]
    },
    {
      "metadata": {
        "id": "wriR-zwhMvqs",
        "colab_type": "code",
        "colab": {}
      },
      "cell_type": "code",
      "source": [
        "def predict(net, char, h=None, top_k=None):\n",
        "        ''' Given a character, predict the next character.\n",
        "            Returns the predicted character and the hidden state.\n",
        "        '''\n",
        "        \n",
        "        # tensor inputs\n",
        "        x = np.array([[net.char2int[char]]])\n",
        "        x = one_hot_encode(x, len(net.chars))\n",
        "        inputs = torch.from_numpy(x)\n",
        "        \n",
        "        if(train_on_gpu):\n",
        "            inputs = inputs.cuda()\n",
        "        \n",
        "        # detach hidden state from history\n",
        "        h = tuple([each.data for each in h])\n",
        "        # get the output of the model\n",
        "        out, h = net(inputs, h)\n",
        "\n",
        "        # get the character probabilities\n",
        "        p = F.softmax(out, dim=1).data\n",
        "        if(train_on_gpu):\n",
        "            p = p.cpu() # move to cpu\n",
        "        \n",
        "        # get top characters\n",
        "        if top_k is None:\n",
        "            top_ch = np.arange(len(net.chars))\n",
        "        else:\n",
        "            p, top_ch = p.topk(top_k)\n",
        "            top_ch = top_ch.numpy().squeeze()\n",
        "        \n",
        "        # select the likely next character with some element of randomness\n",
        "        p = p.numpy().squeeze()\n",
        "        char = np.random.choice(top_ch, p=p/p.sum())\n",
        "        \n",
        "        # return the encoded value of the predicted char and the hidden state\n",
        "        return net.int2char[char], h"
      ],
      "execution_count": 0,
      "outputs": []
    },
    {
      "metadata": {
        "id": "j9B1C-SOMvqu",
        "colab_type": "text"
      },
      "cell_type": "markdown",
      "source": [
        "### Priming and generating text \n",
        "\n",
        "Typically you'll want to prime the network so you can build up a hidden state. Otherwise the network will start out generating characters at random. In general the first bunch of characters will be a little rough since it hasn't built up a long history of characters to predict from."
      ]
    },
    {
      "metadata": {
        "id": "PRItXDHYMvqw",
        "colab_type": "code",
        "colab": {}
      },
      "cell_type": "code",
      "source": [
        "def sample(net, size, prime='The', top_k=None):\n",
        "        \n",
        "    if(train_on_gpu):\n",
        "        net.cuda()\n",
        "    else:\n",
        "        net.cpu()\n",
        "    \n",
        "    net.eval() # eval mode\n",
        "    \n",
        "    # First off, run through the prime characters\n",
        "    chars = [ch for ch in prime]\n",
        "    h = net.init_hidden(1)\n",
        "    for ch in prime:\n",
        "        char, h = predict(net, ch, h, top_k=top_k)\n",
        "\n",
        "    chars.append(char)\n",
        "    \n",
        "    # Now pass in the previous character and get a new one\n",
        "    for ii in range(size):\n",
        "        char, h = predict(net, chars[-1], h, top_k=top_k)\n",
        "        chars.append(char)\n",
        "\n",
        "    return ''.join(chars)"
      ],
      "execution_count": 0,
      "outputs": []
    },
    {
      "metadata": {
        "id": "-xaE4HtyMvqz",
        "colab_type": "code",
        "colab": {
          "base_uri": "https://localhost:8080/",
          "height": 283
        },
        "outputId": "8145a89c-81d9-40f5-86a9-e57cbd805b36"
      },
      "cell_type": "code",
      "source": [
        "print(sample(net, 1000, prime='Anna', top_k=5))"
      ],
      "execution_count": 27,
      "outputs": [
        {
          "output_type": "stream",
          "text": [
            "Anna, and a glamping face that the can and tenderness was not a matter of the points in all to the princess. But with the matter and washed in what she\n",
            "had been discising to her, and the sounds of the passed art of the sight, but had been at the sigh, and her face all\n",
            "the world was not a colonel, and the man who was so too, still as an\n",
            "arm, seeing it,\n",
            "buts in his still servant, so as to stop a solity of him.\n",
            "\n",
            "\"You know! I'm nettiry to take it too. Why says?\" he said, with\n",
            "his watch of shotting his brother into with a significance in silence in the same attraction of another childing and seve might and shake and smuling. \"You know, I don't know it all and see ho hast in the\n",
            "creature,\" said the day, at her fingers, and she\n",
            "saw this in a\n",
            "second the friend would anyone the fresh sort of the country to the same time that there was to bower with the same thing. He had been conscious that she came out of\n",
            "the princess, and her eyes for his way.\n",
            "\n",
            "And the strunge had not been a clear sound with him, \n"
          ],
          "name": "stdout"
        }
      ]
    },
    {
      "metadata": {
        "id": "C0r6C3ZIMvq2",
        "colab_type": "text"
      },
      "cell_type": "markdown",
      "source": [
        "## Loading a checkpoint"
      ]
    },
    {
      "metadata": {
        "id": "ANplMD49Mvq2",
        "colab_type": "code",
        "colab": {}
      },
      "cell_type": "code",
      "source": [
        "# Here we have loaded in a model that trained over 20 epochs `rnn_20_epoch.net`\n",
        "with open('rnn_x_epoch.net', 'rb') as f:\n",
        "    checkpoint = torch.load(f)\n",
        "    \n",
        "loaded = CharRNN(checkpoint['tokens'], n_hidden=checkpoint['n_hidden'], n_layers=checkpoint['n_layers'])\n",
        "loaded.load_state_dict(checkpoint['state_dict'])"
      ],
      "execution_count": 0,
      "outputs": []
    },
    {
      "metadata": {
        "id": "8RCHamFyMvq6",
        "colab_type": "code",
        "colab": {
          "base_uri": "https://localhost:8080/",
          "height": 670
        },
        "outputId": "7d4950c1-bd93-419e-d545-d362af09e677"
      },
      "cell_type": "code",
      "source": [
        "# Sample using a loaded model\n",
        "print(sample(loaded, 2000, top_k=5, prime=\"And Levin said\"))"
      ],
      "execution_count": 29,
      "outputs": [
        {
          "output_type": "stream",
          "text": [
            "And Levin said, \"I've settled it. I am so supporting all though,\n",
            "I supper to me, but I don't think about it.\n",
            "Where is the same was a steps of the fashaors that they can say the common true to her. It's so in a longing, and though to\n",
            "make my\n",
            "heart and\n",
            "the strange ashames, and there't only in the man, because\n",
            "your eaces\n",
            "and hands of it?\"\n",
            "\n",
            "\"Women, that's not,\" said\n",
            "the princess. \"How is it you want to say, and we are besides at the minutes and money, and I could not less me there,\n",
            "would step him anywhere with homonows to her. What has been to be discussing and this is a man whon he ceasent to me the propising to make anyone expected tears. His mistakes of the most capthings about it. It\n",
            "was all to go into the marsh. But what does not step her such in his house, and she's the same intense, and I\n",
            "have no things to be a men and so in home, which, it was a lady and to\n",
            "be sirry. I was\n",
            "suffering. And how it's so much in the miss of makes in her\n",
            "meaning that there\n",
            "is no mare, and I have becume over one side to her about them, and that I can, that there has the\n",
            "servants and the stands, and the points.\"\n",
            "\n",
            "\"Yes,\n",
            "yes, there was a stared. And that I do.\n",
            "What is they?\" said Stepan Arkadyevitch. \"I don't know that\n",
            "I\n",
            "have been so forgiting her. Women. There were\n",
            "such a speciag of a man in the strange\n",
            "secents in the sole of it.\"\n",
            "\n",
            "\"Oh, you must, you don't tell me,\" she said to had sometimes at\n",
            "the coachman that he did not charging the path. \"I've been all that to be done the state, but I'll care into the carriage it an ordural as such an instinction of a solution when he comes out of\n",
            "it, and all one will say to him if he was so much as there's no mental\n",
            "princisiss and the professors, him to be so much, and I consider in the fines, of his soul.\n",
            "\n",
            "\"I have alranded and at all,\" he said, \"before the man of sheet is an influence is\n",
            "talking of it, and to go to see if I went to supper, I shall be\n",
            "a long whine at once to but her, in his first people, that they would be all an offer to me over, and I've not bee\n"
          ],
          "name": "stdout"
        }
      ]
    }
  ]
}