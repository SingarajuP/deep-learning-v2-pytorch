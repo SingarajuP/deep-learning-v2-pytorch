{
  "nbformat": 4,
  "nbformat_minor": 0,
  "metadata": {
    "colab": {
      "name": "Attention_Basics.ipynb",
      "version": "0.3.2",
      "provenance": [],
      "include_colab_link": true
    },
    "kernelspec": {
      "name": "python3",
      "display_name": "Python 3"
    },
    "accelerator": "GPU"
  },
  "cells": [
    {
      "cell_type": "markdown",
      "metadata": {
        "id": "view-in-github",
        "colab_type": "text"
      },
      "source": [
        "<a href=\"https://colab.research.google.com/github/agungsantoso/deep-learning-v2-pytorch/blob/master/attention/Attention_Basics.ipynb\" target=\"_parent\"><img src=\"https://colab.research.google.com/assets/colab-badge.svg\" alt=\"Open In Colab\"/></a>"
      ]
    },
    {
      "metadata": {
        "id": "gU-8j4KcHFw1",
        "colab_type": "text"
      },
      "cell_type": "markdown",
      "source": [
        "# Attention Basics\n",
        "In this notebook, we look at how attention is implemented. We will focus on implementing attention in isolation from a larger model. That's because when implementing attention in a real-world model, a lot of the focus goes into piping the data and juggling the various vectors rather than the concepts of attention themselves.\n",
        "\n",
        "We will implement attention scoring as well as calculating an attention context vector.\n",
        "\n",
        "## Attention Scoring\n",
        "### Inputs to the scoring function\n",
        "Let's start by looking at the inputs we'll give to the scoring function. We will assume we're in the first step in the decoding phase. The first input to the scoring function is the hidden state of decoder (assuming a toy RNN with three hidden nodes -- not usable in real life, but easier to illustrate):"
      ]
    },
    {
      "metadata": {
        "id": "SW9hOmcrHFw4",
        "colab_type": "code",
        "colab": {}
      },
      "cell_type": "code",
      "source": [
        "dec_hidden_state = [5,1,20]"
      ],
      "execution_count": 0,
      "outputs": []
    },
    {
      "metadata": {
        "id": "EEo5zxMWHFw8",
        "colab_type": "text"
      },
      "cell_type": "markdown",
      "source": [
        "Let's visualize this vector:"
      ]
    },
    {
      "metadata": {
        "id": "0imTl-joHFw9",
        "colab_type": "code",
        "colab": {
          "base_uri": "https://localhost:8080/",
          "height": 314
        },
        "outputId": "aae3ff30-96ac-4049-ac8f-8f0caef46cca"
      },
      "cell_type": "code",
      "source": [
        "%matplotlib inline\n",
        "import numpy as np\n",
        "import matplotlib.pyplot as plt\n",
        "import seaborn as sns\n",
        "\n",
        "# Let's visualize our decoder hidden state\n",
        "plt.figure(figsize=(1.5, 4.5))\n",
        "sns.heatmap(np.transpose(np.matrix(dec_hidden_state)), annot=True, cmap=sns.light_palette(\"purple\", as_cmap=True), linewidths=1)"
      ],
      "execution_count": 2,
      "outputs": [
        {
          "output_type": "execute_result",
          "data": {
            "text/plain": [
              "<matplotlib.axes._subplots.AxesSubplot at 0x7f8e1cace320>"
            ]
          },
          "metadata": {
            "tags": []
          },
          "execution_count": 2
        },
        {
          "output_type": "display_data",
          "data": {
            "image/png": "[encoded data removed]",
            "text/plain": [
              "<Figure size 108x324 with 2 Axes>"
            ]
          },
          "metadata": {
            "tags": []
          }
        }
      ]
    },
    {
      "metadata": {
        "id": "WYO1ih59HFxA",
        "colab_type": "text"
      },
      "cell_type": "markdown",
      "source": [
        "Our first scoring function will score a single annotation (encoder hidden state), which looks like this:"
      ]
    },
    {
      "metadata": {
        "id": "R5v5oPHsHFxB",
        "colab_type": "code",
        "colab": {}
      },
      "cell_type": "code",
      "source": [
        "annotation = [3,12,45] #e.g. Encoder hidden state"
      ],
      "execution_count": 0,
      "outputs": []
    },
    {
      "metadata": {
        "id": "tMmNUJuWHFxE",
        "colab_type": "code",
        "colab": {
          "base_uri": "https://localhost:8080/",
          "height": 310
        },
        "outputId": "5354949c-6140-4921-9d15-23e4158a0e4e"
      },
      "cell_type": "code",
      "source": [
        "# Let's visualize the single annotation\n",
        "plt.figure(figsize=(1.5, 4.5))\n",
        "sns.heatmap(np.transpose(np.matrix(annotation)), annot=True, cmap=sns.light_palette(\"orange\", as_cmap=True), linewidths=1)"
      ],
      "execution_count": 4,
      "outputs": [
        {
          "output_type": "execute_result",
          "data": {
            "text/plain": [
              "<matplotlib.axes._subplots.AxesSubplot at 0x7f8e197cac18>"
            ]
          },
          "metadata": {
            "tags": []
          },
          "execution_count": 4
        },
        {
          "output_type": "display_data",
          "data": {
            "image/png": "[encoded data removed]",
            "text/plain": [
              "<Figure size 108x324 with 2 Axes>"
            ]
          },
          "metadata": {
            "tags": []
          }
        }
      ]
    },
    {
      "metadata": {
        "id": "sGUUnajMHFxH",
        "colab_type": "text"
      },
      "cell_type": "markdown",
      "source": [
        "### IMPLEMENT: Scoring a Single Annotation\n",
        "Let's calculate the dot product of a single annotation. NumPy's [dot()](https://docs.scipy.org/doc/numpy/reference/generated/numpy.dot.html) is a good candidate for this operation"
      ]
    },
    {
      "metadata": {
        "id": "xKITvUUgHFxI",
        "colab_type": "code",
        "colab": {
          "base_uri": "https://localhost:8080/",
          "height": 34
        },
        "outputId": "f347dc90-1629-429f-a542-fb4b917f4aea"
      },
      "cell_type": "code",
      "source": [
        "def single_dot_attention_score(dec_hidden_state, enc_hidden_state):\n",
        "    # return the dot product of the two vectors\n",
        "    return np.dot(dec_hidden_state, enc_hidden_state)\n",
        "    \n",
        "single_dot_attention_score(dec_hidden_state, annotation)"
      ],
      "execution_count": 6,
      "outputs": [
        {
          "output_type": "execute_result",
          "data": {
            "text/plain": [
              "927"
            ]
          },
          "metadata": {
            "tags": []
          },
          "execution_count": 6
        }
      ]
    },
    {
      "metadata": {
        "id": "ihvOxCHyHFxL",
        "colab_type": "text"
      },
      "cell_type": "markdown",
      "source": [
        "\n",
        "### Annotations Matrix\n",
        "Let's now look at scoring all the annotations at once. To do that, here's our annotation matrix:"
      ]
    },
    {
      "metadata": {
        "id": "FLhipsoPHFxM",
        "colab_type": "code",
        "colab": {}
      },
      "cell_type": "code",
      "source": [
        "annotations = np.transpose([[3,12,45], [59,2,5], [1,43,5], [4,3,45.3]])"
      ],
      "execution_count": 0,
      "outputs": []
    },
    {
      "metadata": {
        "id": "pd70ABtgHFxP",
        "colab_type": "text"
      },
      "cell_type": "markdown",
      "source": [
        "And it can be visualized like this (each column is a hidden state of an encoder time step):"
      ]
    },
    {
      "metadata": {
        "id": "8W2RTz4_HFxQ",
        "colab_type": "code",
        "colab": {
          "base_uri": "https://localhost:8080/",
          "height": 265
        },
        "outputId": "23063e4c-d2da-4a9a-fb8f-57f18aa7bde7"
      },
      "cell_type": "code",
      "source": [
        "# Let's visualize our annotation (each column is an annotation)\n",
        "ax = sns.heatmap(annotations, annot=True, cmap=sns.light_palette(\"orange\", as_cmap=True), linewidths=1)"
      ],
      "execution_count": 8,
      "outputs": [
        {
          "output_type": "display_data",
          "data": {
            "image/png": "[encoded data removed]",
            "text/plain": [
              "<Figure size 432x288 with 2 Axes>"
            ]
          },
          "metadata": {
            "tags": []
          }
        }
      ]
    },
    {
      "metadata": {
        "id": "LrxcBIZ4HFxW",
        "colab_type": "text"
      },
      "cell_type": "markdown",
      "source": [
        "### IMPLEMENT: Scoring All Annotations at Once\n",
        "Let's calculate the scores of all the annotations in one step using matrix multiplication. Let's continue to us the dot scoring method\n",
        "\n",
        "<img src=\"https://github.com/agungsantoso/deep-learning-v2-pytorch/blob/master/attention/images/scoring_functions.png?raw=1\" />\n",
        "\n",
        "To do that, we'll have to transpose `dec_hidden_state` and [matrix multiply](https://docs.scipy.org/doc/numpy/reference/generated/numpy.matmul.html) it with `annotations`."
      ]
    },
    {
      "metadata": {
        "id": "d8c7GQIHHFxX",
        "colab_type": "code",
        "colab": {
          "base_uri": "https://localhost:8080/",
          "height": 34
        },
        "outputId": "0e1c7813-ba3c-4af5-b8c3-db2cb3616e5e"
      },
      "cell_type": "code",
      "source": [
        "def dot_attention_score(dec_hidden_state, annotations):\n",
        "    # return the product of dec_hidden_state transpose and enc_hidden_states\n",
        "    return np.matmul(np.transpose(dec_hidden_state), annotations) \n",
        "    \n",
        "attention_weights_raw = dot_attention_score(dec_hidden_state, annotations)\n",
        "attention_weights_raw"
      ],
      "execution_count": 9,
      "outputs": [
        {
          "output_type": "execute_result",
          "data": {
            "text/plain": [
              "array([927., 397., 148., 929.])"
            ]
          },
          "metadata": {
            "tags": []
          },
          "execution_count": 9
        }
      ]
    },
    {
      "metadata": {
        "id": "pBcg8TDYHFxa",
        "colab_type": "text"
      },
      "cell_type": "markdown",
      "source": [
        "Looking at these scores, can you guess which of the four vectors will get the most attention from the decoder at this time step?\n",
        "\n",
        "## Softmax\n",
        "Now that we have our scores, let's apply softmax:\n",
        "<img src=\"https://github.com/agungsantoso/deep-learning-v2-pytorch/blob/master/attention/images/softmax.png?raw=1\" />"
      ]
    },
    {
      "metadata": {
        "id": "Oc6cjieEHFxb",
        "colab_type": "code",
        "colab": {
          "base_uri": "https://localhost:8080/",
          "height": 52
        },
        "outputId": "d2fd30aa-5067-41d7-ad32-bdbae702bc11"
      },
      "cell_type": "code",
      "source": [
        "def softmax(x):\n",
        "    x = np.array(x, dtype=np.float128)\n",
        "    e_x = np.exp(x)\n",
        "    return e_x / e_x.sum(axis=0) \n",
        "\n",
        "attention_weights = softmax(attention_weights_raw)\n",
        "attention_weights"
      ],
      "execution_count": 10,
      "outputs": [
        {
          "output_type": "execute_result",
          "data": {
            "text/plain": [
              "array([1.19202922e-001, 7.94715151e-232, 5.76614420e-340, 8.80797078e-001],\n",
              "      dtype=float128)"
            ]
          },
          "metadata": {
            "tags": []
          },
          "execution_count": 10
        }
      ]
    },
    {
      "metadata": {
        "id": "ABFD5aBKHFxd",
        "colab_type": "text"
      },
      "cell_type": "markdown",
      "source": [
        "Even when knowing which annotation will get the most focus, it's interesting to see how drastic softmax makes the end score become. The first and last annotation had the respective scores of 927 and 929. But after softmax, the attention they'll get is 0.12 and 0.88 respectively.\n",
        "\n",
        "# Applying the scores back on the annotations\n",
        "Now that we have our scores, let's multiply each annotation by its score to proceed closer to the attention context vector. This is the multiplication part of this formula (we'll tackle the summation part in the latter cells)\n",
        "\n",
        "<img src=\"https://github.com/agungsantoso/deep-learning-v2-pytorch/blob/master/attention/images/Context_vector.png?raw=1\" />"
      ]
    },
    {
      "metadata": {
        "id": "HW7Wx2LuHFxe",
        "colab_type": "code",
        "colab": {
          "base_uri": "https://localhost:8080/",
          "height": 122
        },
        "outputId": "a230ae69-afd8-4f7c-d9d0-147b0c1fb513"
      },
      "cell_type": "code",
      "source": [
        "def apply_attention_scores(attention_weights, annotations):\n",
        "    # Multiple the annotations by their weights\n",
        "    return attention_weights * annotations\n",
        "\n",
        "applied_attention = apply_attention_scores(attention_weights, annotations)\n",
        "applied_attention"
      ],
      "execution_count": 11,
      "outputs": [
        {
          "output_type": "execute_result",
          "data": {
            "text/plain": [
              "array([[3.57608766e-001, 4.68881939e-230, 5.76614420e-340,\n",
              "        3.52318831e+000],\n",
              "       [1.43043506e+000, 1.58943030e-231, 2.47944200e-338,\n",
              "        2.64239123e+000],\n",
              "       [5.36413149e+000, 3.97357575e-231, 2.88307210e-339,\n",
              "        3.99001076e+001]], dtype=float128)"
            ]
          },
          "metadata": {
            "tags": []
          },
          "execution_count": 11
        }
      ]
    },
    {
      "metadata": {
        "id": "YXrVOLDGHFxh",
        "colab_type": "text"
      },
      "cell_type": "markdown",
      "source": [
        "Let's visualize how the context vector looks now that we've applied the attention scores back on it:"
      ]
    },
    {
      "metadata": {
        "id": "ziUkzB2DHFxi",
        "colab_type": "code",
        "colab": {
          "base_uri": "https://localhost:8080/",
          "height": 265
        },
        "outputId": "c5e6b1c7-2ba8-4dd0-d10a-eddd4e79aa71"
      },
      "cell_type": "code",
      "source": [
        "# Let's visualize our annotations after applying attention to them\n",
        "ax = sns.heatmap(applied_attention, annot=True, cmap=sns.light_palette(\"orange\", as_cmap=True), linewidths=1)"
      ],
      "execution_count": 12,
      "outputs": [
        {
          "output_type": "display_data",
          "data": {
            "image/png": "[encoded data removed]",
            "text/plain": [
              "<Figure size 432x288 with 2 Axes>"
            ]
          },
          "metadata": {
            "tags": []
          }
        }
      ]
    },
    {
      "metadata": {
        "id": "vL-pTQEmHFxk",
        "colab_type": "text"
      },
      "cell_type": "markdown",
      "source": [
        "Contrast this with the raw annotations visualized earlier in the notebook, and we can see that the second and third annotations (columns) have been nearly wiped out. The first annotation maintains some of its value, and the fourth annotation is the most pronounced.\n",
        "\n",
        "# Calculating the Attention Context Vector\n",
        "All that remains to produce our attention context vector now is to sum up the four columns to produce a single attention context vector\n"
      ]
    },
    {
      "metadata": {
        "id": "agrnm3yAHFxl",
        "colab_type": "code",
        "colab": {
          "base_uri": "https://localhost:8080/",
          "height": 34
        },
        "outputId": "bc3ddca8-29d5-498d-ed38-da6378b3cb0b"
      },
      "cell_type": "code",
      "source": [
        "def calculate_attention_vector(applied_attention):\n",
        "    return np.sum(applied_attention, axis=1)\n",
        "\n",
        "attention_vector = calculate_attention_vector(applied_attention)\n",
        "attention_vector"
      ],
      "execution_count": 13,
      "outputs": [
        {
          "output_type": "execute_result",
          "data": {
            "text/plain": [
              "array([ 3.88079708,  4.0728263 , 45.26423912], dtype=float128)"
            ]
          },
          "metadata": {
            "tags": []
          },
          "execution_count": 13
        }
      ]
    },
    {
      "metadata": {
        "scrolled": false,
        "id": "W_19L82wHFxo",
        "colab_type": "code",
        "colab": {
          "base_uri": "https://localhost:8080/",
          "height": 310
        },
        "outputId": "bd6c1c2e-43ff-43e7-a700-27232bf460a6"
      },
      "cell_type": "code",
      "source": [
        "# Let's visualize the attention context vector\n",
        "plt.figure(figsize=(1.5, 4.5))\n",
        "sns.heatmap(np.transpose(np.matrix(attention_vector)), annot=True, cmap=sns.light_palette(\"Blue\", as_cmap=True), linewidths=1)"
      ],
      "execution_count": 14,
      "outputs": [
        {
          "output_type": "execute_result",
          "data": {
            "text/plain": [
              "<matplotlib.axes._subplots.AxesSubplot at 0x7f8e195be0f0>"
            ]
          },
          "metadata": {
            "tags": []
          },
          "execution_count": 14
        },
        {
          "output_type": "display_data",
          "data": {
            "image/png": "[encoded data removed]",
            "text/plain": [
              "<Figure size 108x324 with 2 Axes>"
            ]
          },
          "metadata": {
            "tags": []
          }
        }
      ]
    },
    {
      "metadata": {
        "id": "3eSH5ctJHFxq",
        "colab_type": "text"
      },
      "cell_type": "markdown",
      "source": [
        "Now that we have the context vector, we can concatenate it with the hidden state and pass it through a hidden layer to produce the the result of this decoding time step."
      ]
    }
  ]
}